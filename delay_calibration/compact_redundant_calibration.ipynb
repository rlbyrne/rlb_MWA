{
 "cells": [
  {
   "cell_type": "code",
   "execution_count": 250,
   "metadata": {},
   "outputs": [],
   "source": [
    "import numpy as np\n",
    "import matplotlib.pyplot as plt\n",
    "import pandas\n",
    "import sys\n",
    "import scipy\n",
    "sys.path.append('/Users/ruby/EoR/pyuvdata')\n",
    "from pyuvdata import UVData\n",
    "import scipy.optimize"
   ]
  },
  {
   "cell_type": "code",
   "execution_count": 251,
   "metadata": {},
   "outputs": [],
   "source": [
    "# Load data from pyuvsim simulation:\n",
    "path = '/Users/ruby/EoR/compact_redundant_array_sim_May2020'\n",
    "data_sim = UVData()\n",
    "data_sim.read_uvh5('{}/square_grid_sim__results.uvh5'.format(path))"
   ]
  },
  {
   "cell_type": "code",
   "execution_count": 252,
   "metadata": {},
   "outputs": [
    {
     "name": "stdout",
     "output_type": "stream",
     "text": [
      "(61,)\n",
      "(666,)\n"
     ]
    }
   ],
   "source": [
    "# Inflate data\n",
    "print(np.shape(data_sim.baseline_array))\n",
    "data_sim.inflate_by_redundancy()\n",
    "print(np.shape(data_sim.baseline_array))"
   ]
  },
  {
   "cell_type": "code",
   "execution_count": 253,
   "metadata": {},
   "outputs": [],
   "source": [
    "# Remove autos\n",
    "data_sim.select(ant_str='cross')\n",
    "# Use only XX polarizations\n",
    "data_sim.select(polarizations=[-5])"
   ]
  },
  {
   "cell_type": "code",
   "execution_count": 254,
   "metadata": {},
   "outputs": [],
   "source": [
    "# Convert baselines to have u>0\n",
    "data_sim.conjugate_bls(convention='u>0', use_enu=False, uvw_tol=0.01)"
   ]
  },
  {
   "cell_type": "code",
   "execution_count": 255,
   "metadata": {},
   "outputs": [],
   "source": [
    "baseline_groups, vec_bin_centers, lengths, conjugates = data_sim.get_redundancies(\n",
    "    tol=0.1, use_antpos=False, include_conjugates=True, include_autos=True, conjugate_bls=False\n",
    ")"
   ]
  },
  {
   "cell_type": "code",
   "execution_count": 258,
   "metadata": {},
   "outputs": [],
   "source": [
    "# Create the baseline covariance matrix\n",
    "baseline_cov_array = np.diag(np.full(np.shape(baseline_groups)[0], 1.))\n",
    "min_bl_length = 14.\n",
    "tolerance = .01\n",
    "for bl_1 in range(np.shape(baseline_groups)[0]):\n",
    "    for bl_2 in [ind for ind in range(np.shape(baseline_groups)[0]) if ind != bl_1]:\n",
    "        bl_separation_sq = (\n",
    "            (vec_bin_centers[bl_1, 0]-vec_bin_centers[bl_2, 0])**2\n",
    "            + (vec_bin_centers[bl_1, 1]-vec_bin_centers[bl_2, 1])**2\n",
    "        )\n",
    "        if (min_bl_length-tolerance)**2 <= bl_separation_sq <= (min_bl_length+tolerance)**2:\n",
    "            baseline_cov_array[bl_1, bl_2] = 0.1617\n",
    "        elif 2*(min_bl_length-tolerance)**2 <= bl_separation_sq <= 2*(min_bl_length+tolerance)**2:\n",
    "            baseline_cov_array[bl_1, bl_2] = 0.0176"
   ]
  },
  {
   "cell_type": "code",
   "execution_count": 259,
   "metadata": {},
   "outputs": [
    {
     "name": "stdout",
     "output_type": "stream",
     "text": [
      "60\n",
      "60\n"
     ]
    }
   ],
   "source": [
    "# Check that the covariance matrix is full-rank\n",
    "print(N_baseline_groups)\n",
    "print(np.linalg.matrix_rank(baseline_cov_array))"
   ]
  },
  {
   "cell_type": "code",
   "execution_count": 315,
   "metadata": {},
   "outputs": [],
   "source": [
    "# Grab model visibilities\n",
    "model_visibilities = np.zeros(np.shape(baseline_groups)[0], dtype=np.complex_)\n",
    "for red_group in range(np.shape(baseline_groups)[0]):\n",
    "    # Use first visiblity in each redundant group\n",
    "    model_visibilities[red_group] = data_sim.data_array[\n",
    "        np.where(data_sim.baseline_array == baseline_groups[red_group][0])[0], 0, 0, 0\n",
    "    ]"
   ]
  },
  {
   "cell_type": "code",
   "execution_count": 316,
   "metadata": {},
   "outputs": [],
   "source": [
    "# Initialize the fitted visibilities to the model visibility values\n",
    "visibilities_initialize = np.copy(model_visibilities)\n",
    "# Initialize the gains to 1\n",
    "gains_initialize = np.full(data_sim.Nants_data, 1.+0.j)\n",
    "# Expand the initialized values\n",
    "x0 = np.concatenate((\n",
    "    np.real(gains_initialize), np.imag(gains_initialize),\n",
    "    np.real(visibilities_initialize), np.imag(visibilities_initialize)\n",
    "))"
   ]
  },
  {
   "cell_type": "code",
   "execution_count": 317,
   "metadata": {},
   "outputs": [],
   "source": [
    "# Create the A matrix\n",
    "a_mat = np.zeros((np.shape(data_visibilities)[0], np.shape(baseline_groups)[0]))\n",
    "for red_group in range(np.shape(baseline_groups)[0]):\n",
    "    for baseline in baseline_groups[red_group]:\n",
    "        a_mat[np.where(data_sim.baseline_array == baseline)[0], red_group] = 1"
   ]
  },
  {
   "cell_type": "code",
   "execution_count": 318,
   "metadata": {},
   "outputs": [],
   "source": [
    "# Create gains expand matrices\n",
    "gains_exp_mat_1 = np.zeros((np.shape(data_visibilities)[0], data_sim.Nants_data), dtype=np.complex_)\n",
    "gains_exp_mat_2 = np.zeros((np.shape(data_visibilities)[0], data_sim.Nants_data), dtype=np.complex_)\n",
    "for baseline in range(np.shape(data_visibilities)[0]):\n",
    "    gains_exp_mat_1[baseline, data_sim.ant_1_array[baseline]] = 1\n",
    "    gains_exp_mat_2[baseline, data_sim.ant_2_array[baseline]] = 1"
   ]
  },
  {
   "cell_type": "code",
   "execution_count": 367,
   "metadata": {},
   "outputs": [],
   "source": [
    "def cost_function(\n",
    "    x, \n",
    "    N_red_baselines, Nants, baseline_cov_array, model_visibilities, a_mat,\n",
    "    gains_exp_mat, data_visibilities, model_variance\n",
    "):\n",
    "\n",
    "    fitted_visibilities = x[-2*N_red_baselines:-N_red_baselines]+1j*x[-N_red_baselines:]\n",
    "    gains = x[:Nants]+1j*x[Nants:2*Nants]\n",
    "    \n",
    "    vis_diff = fitted_visibilities-model_visibilities\n",
    "    prior = np.abs(np.dot(np.matmul(np.conj(vis_diff), baseline_cov_array), vis_diff))\n",
    "    \n",
    "    fitted_visibilities_expanded = np.matmul(a_mat, fitted_visibilities)\n",
    "    gains_expanded = np.matmul(gains_exp_mat_1, gains)*np.matmul(gains_exp_mat_2, np.conj(gains))\n",
    "    prob = np.sum(np.abs(data_visibilities - gains_expanded*fitted_visibilities_expanded)**2)\n",
    "    \n",
    "    return prob+prior/model_variance"
   ]
  },
  {
   "cell_type": "code",
   "execution_count": 377,
   "metadata": {},
   "outputs": [],
   "source": [
    "def add_visibility_noise(visibilities, stddev):\n",
    "    noise_real = np.random.normal(0, stddev, np.shape(visibilities))\n",
    "    noise_imag = np.random.normal(0, stddev, np.shape(visibilities))\n",
    "    noisy_visibilities = np.copy(visibilities)\n",
    "    noisy_visibilities += noise_real + 1j*noise_imag\n",
    "    return noisy_visibilities"
   ]
  },
  {
   "cell_type": "code",
   "execution_count": 394,
   "metadata": {},
   "outputs": [
    {
     "name": "stdout",
     "output_type": "stream",
     "text": [
      "Optimization terminated successfully.\n",
      "Optimization terminated successfully.\n",
      "Optimization terminated successfully.\n",
      "Optimization terminated successfully.\n",
      "Optimization terminated successfully.\n",
      "Optimization terminated successfully.\n"
     ]
    }
   ],
   "source": [
    "n_trials=3\n",
    "noise_level = 2.\n",
    "model_variance = 1\n",
    "gain_vals_covariance = np.zeros((data_sim.Nants_data, n_trials), dtype=np.complex_)\n",
    "gain_vals_no_covariance = np.zeros((data_sim.Nants_data, n_trials), dtype=np.complex_)\n",
    "\n",
    "for trial in range(n_trials):\n",
    "    # Create data visibilities\n",
    "    data_visibilities = add_visibility_noise(data_sim.data_array[:,0,0,0], 0.01)\n",
    "    \n",
    "    result = scipy.optimize.minimize(\n",
    "        cost_function, x0, \n",
    "        args=(\n",
    "            np.shape(baseline_groups)[0], data_sim.Nants_data, baseline_cov_array, \n",
    "            model_visibilities, a_mat, gains_exp_mat, data_visibilities, model_variance\n",
    "        ),\n",
    "        method='Nelder-Mead', options={'maxiter':100000}\n",
    "    )\n",
    "    print(result.message)\n",
    "    gains_fit = result.x[:Nants]+1j*result.x[Nants:2*Nants]\n",
    "    gain_vals_covariance[:, trial] = gains_fit\n",
    "\n",
    "    result_no_cov = scipy.optimize.minimize(\n",
    "        cost_function, x0, \n",
    "        args=(\n",
    "            np.shape(baseline_groups)[0], data_sim.Nants_data, np.diag(np.full(np.shape(baseline_groups)[0], 1.)), \n",
    "            model_visibilities, a_mat, gains_exp_mat, data_visibilities, model_variance\n",
    "        ),\n",
    "        method='Nelder-Mead', options={'maxiter':100000}\n",
    "    )\n",
    "    print(result_no_cov.message)\n",
    "    gains_fit_no_cov = result_no_cov.x[:Nants]+1j*result_no_cov.x[Nants:2*Nants]\n",
    "    gain_vals_no_covariance[:, trial] = gains_fit_no_cov"
   ]
  },
  {
   "cell_type": "code",
   "execution_count": 395,
   "metadata": {},
   "outputs": [
    {
     "data": {
      "image/png": "[encoded data removed]",
      "text/plain": [
       "<Figure size 432x288 with 1 Axes>"
      ]
     },
     "metadata": {
      "needs_background": "light"
     },
     "output_type": "display_data"
    },
    {
     "data": {
      "image/png": "[encoded data removed]",
      "text/plain": [
       "<Figure size 432x288 with 1 Axes>"
      ]
     },
     "metadata": {
      "needs_background": "light"
     },
     "output_type": "display_data"
    },
    {
     "data": {
      "image/png": "[encoded data removed]",
      "text/plain": [
       "<Figure size 432x288 with 1 Axes>"
      ]
     },
     "metadata": {
      "needs_background": "light"
     },
     "output_type": "display_data"
    },
    {
     "data": {
      "image/png": "[encoded data removed]",
      "text/plain": [
       "<Figure size 432x288 with 1 Axes>"
      ]
     },
     "metadata": {
      "needs_background": "light"
     },
     "output_type": "display_data"
    }
   ],
   "source": [
    "plot_range = .001\n",
    "\n",
    "plt.hist(np.real(gain_vals_covariance).flatten())\n",
    "plt.xlabel('Gains, Real Part')\n",
    "plt.ylabel('Histogram Count')\n",
    "plt.title('Covariant Calibration, Std.Dev {:f}'.format(np.std(np.real(gain_vals_covariance))))\n",
    "plt.xlim(1-plot_range,1+plot_range)\n",
    "plt.show()\n",
    "\n",
    "plt.hist(np.real(gain_vals_no_covariance).flatten())\n",
    "plt.xlabel('Gains, Real Part')\n",
    "plt.ylabel('Histogram Count')\n",
    "plt.title('Non-Covariant Calibration, Std.Dev {:f}'.format(np.std(np.real(gain_vals_no_covariance))))\n",
    "plt.xlim(1-plot_range,1+plot_range)\n",
    "plt.show()\n",
    "\n",
    "plt.hist(np.imag(gain_vals_covariance).flatten())\n",
    "plt.xlabel('Gains, Imaginary Part')\n",
    "plt.ylabel('Histogram Count')\n",
    "plt.title('Covariant Calibration, Std.Dev {:f}'.format(np.std(np.imag(gain_vals_covariance))))\n",
    "plt.xlim(-1*plot_range, plot_range)\n",
    "plt.show()\n",
    "\n",
    "plt.hist(np.imag(gain_vals_no_covariance).flatten())\n",
    "plt.xlabel('Gains, Imaginary Part')\n",
    "plt.ylabel('Histogram Count')\n",
    "plt.title('Non-Covariant Calibration, Std.Dev {:f}'.format(np.std(np.imag(gain_vals_no_covariance))))\n",
    "plt.xlim(-1*plot_range, plot_range)\n",
    "plt.show()"
   ]
  },
  {
   "cell_type": "code",
   "execution_count": null,
   "metadata": {},
   "outputs": [],
   "source": []
  }
 ],
 "metadata": {
  "kernelspec": {
   "display_name": "Python 3",
   "language": "python",
   "name": "python3"
  },
  "language_info": {
   "codemirror_mode": {
    "name": "ipython",
    "version": 3
   },
   "file_extension": ".py",
   "mimetype": "text/x-python",
   "name": "python",
   "nbconvert_exporter": "python",
   "pygments_lexer": "ipython3",
   "version": "3.7.3"
  }
 },
 "nbformat": 4,
 "nbformat_minor": 2
}
