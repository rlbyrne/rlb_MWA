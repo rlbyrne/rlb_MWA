{
 "cells": [
  {
   "cell_type": "code",
   "execution_count": 250,
   "metadata": {},
   "outputs": [],
   "source": [
    "import numpy as np\n",
    "import matplotlib.pyplot as plt\n",
    "import pandas\n",
    "import sys\n",
    "import scipy\n",
    "sys.path.append('/Users/ruby/EoR/pyuvdata')\n",
    "from pyuvdata import UVData\n",
    "import scipy.optimize"
   ]
  },
  {
   "cell_type": "code",
   "execution_count": 251,
   "metadata": {},
   "outputs": [],
   "source": [
    "# Load data from pyuvsim simulation:\n",
    "path = '/Users/ruby/EoR/compact_redundant_array_sim_May2020'\n",
    "data_sim = UVData()\n",
    "data_sim.read_uvh5('{}/square_grid_sim__results.uvh5'.format(path))"
   ]
  },
  {
   "cell_type": "code",
   "execution_count": 252,
   "metadata": {},
   "outputs": [
    {
     "name": "stdout",
     "output_type": "stream",
     "text": [
      "(61,)\n",
      "(666,)\n"
     ]
    }
   ],
   "source": [
    "# Inflate data\n",
    "print(np.shape(data_sim.baseline_array))\n",
    "data_sim.inflate_by_redundancy()\n",
    "print(np.shape(data_sim.baseline_array))"
   ]
  },
  {
   "cell_type": "code",
   "execution_count": 253,
   "metadata": {},
   "outputs": [],
   "source": [
    "# Remove autos\n",
    "data_sim.select(ant_str='cross')\n",
    "# Use only XX polarizations\n",
    "data_sim.select(polarizations=[-5])"
   ]
  },
  {
   "cell_type": "code",
   "execution_count": 254,
   "metadata": {},
   "outputs": [],
   "source": [
    "# Convert baselines to have u>0\n",
    "data_sim.conjugate_bls(convention='u>0', use_enu=False, uvw_tol=0.01)"
   ]
  },
  {
   "cell_type": "code",
   "execution_count": 255,
   "metadata": {},
   "outputs": [],
   "source": [
    "baseline_groups, vec_bin_centers, lengths, conjugates = data_sim.get_redundancies(\n",
    "    tol=0.1, use_antpos=False, include_conjugates=True, include_autos=True, conjugate_bls=False\n",
    ")"
   ]
  },
  {
   "cell_type": "code",
   "execution_count": 256,
   "metadata": {},
   "outputs": [
    {
     "data": {
      "text/plain": [
       "60"
      ]
     },
     "execution_count": 256,
     "metadata": {},
     "output_type": "execute_result"
    }
   ],
   "source": [
    "np.shape(baseline_groups)[0]"
   ]
  },
  {
   "cell_type": "code",
   "execution_count": 257,
   "metadata": {
    "scrolled": true
   },
   "outputs": [
    {
     "name": "stdout",
     "output_type": "stream",
     "text": [
      "(60, 3)\n",
      "[ 2.80000000e+01 -1.20564891e-10 -2.39678499e-10]\n"
     ]
    }
   ],
   "source": [
    "print(np.shape(vec_bin_centers))\n",
    "print(vec_bin_centers[1])"
   ]
  },
  {
   "cell_type": "code",
   "execution_count": 258,
   "metadata": {},
   "outputs": [],
   "source": [
    "# Create the baseline covariance matrix\n",
    "baseline_cov_array = np.diag(np.full(np.shape(baseline_groups)[0], 1.))\n",
    "min_bl_length = 14.\n",
    "tolerance = .01\n",
    "for bl_1 in range(np.shape(baseline_groups)[0]):\n",
    "    for bl_2 in [ind for ind in range(np.shape(baseline_groups)[0]) if ind != bl_1]:\n",
    "        bl_separation_sq = (\n",
    "            (vec_bin_centers[bl_1, 0]-vec_bin_centers[bl_2, 0])**2\n",
    "            + (vec_bin_centers[bl_1, 1]-vec_bin_centers[bl_2, 1])**2\n",
    "        )\n",
    "        if (min_bl_length-tolerance)**2 <= bl_separation_sq <= (min_bl_length+tolerance)**2:\n",
    "            baseline_cov_array[bl_1, bl_2] = 0.1617\n",
    "        elif 2*(min_bl_length-tolerance)**2 <= bl_separation_sq <= 2*(min_bl_length+tolerance)**2:\n",
    "            baseline_cov_array[bl_1, bl_2] = 0.0176"
   ]
  },
  {
   "cell_type": "code",
   "execution_count": 259,
   "metadata": {},
   "outputs": [
    {
     "name": "stdout",
     "output_type": "stream",
     "text": [
      "60\n",
      "60\n"
     ]
    }
   ],
   "source": [
    "# Check that the covariance matrix is full-rank\n",
    "print(N_baseline_groups)\n",
    "print(np.linalg.matrix_rank(baseline_cov_array))"
   ]
  },
  {
   "cell_type": "code",
   "execution_count": 315,
   "metadata": {},
   "outputs": [],
   "source": [
    "# Grab model visibilities\n",
    "model_visibilities = np.zeros(np.shape(baseline_groups)[0], dtype=np.complex_)\n",
    "for red_group in range(np.shape(baseline_groups)[0]):\n",
    "    # Use first visiblity in each redundant group\n",
    "    model_visibilities[red_group] = data_sim.data_array[\n",
    "        np.where(data_sim.baseline_array == baseline_groups[red_group][0])[0], 0, 0, 0\n",
    "    ]"
   ]
  },
  {
   "cell_type": "code",
   "execution_count": 316,
   "metadata": {},
   "outputs": [],
   "source": [
    "# Initialize the fitted visibilities to the model visibility values\n",
    "visibilities_initialize = np.copy(model_visibilities)\n",
    "# Initialize the gains to 1\n",
    "gains_initialize = np.full(data_sim.Nants_data, 1.+0.j)\n",
    "# Expand the initialized values\n",
    "x0 = np.concatenate((\n",
    "    np.real(gains_initialize), np.imag(gains_initialize),\n",
    "    np.real(visibilities_initialize), np.imag(visibilities_initialize)\n",
    "))"
   ]
  },
  {
   "cell_type": "code",
   "execution_count": 317,
   "metadata": {},
   "outputs": [],
   "source": [
    "# Create the A matrix\n",
    "a_mat = np.zeros((np.shape(data_visibilities)[0], np.shape(baseline_groups)[0]))\n",
    "for red_group in range(np.shape(baseline_groups)[0]):\n",
    "    for baseline in baseline_groups[red_group]:\n",
    "        a_mat[np.where(data_sim.baseline_array == baseline)[0], red_group] = 1"
   ]
  },
  {
   "cell_type": "code",
   "execution_count": 318,
   "metadata": {},
   "outputs": [],
   "source": [
    "# Create gains expand matrices\n",
    "gains_exp_mat_1 = np.zeros((np.shape(data_visibilities)[0], data_sim.Nants_data), dtype=np.complex_)\n",
    "gains_exp_mat_2 = np.zeros((np.shape(data_visibilities)[0], data_sim.Nants_data), dtype=np.complex_)\n",
    "for baseline in range(np.shape(data_visibilities)[0]):\n",
    "    gains_exp_mat_1[baseline, data_sim.ant_1_array[baseline]] = 1\n",
    "    gains_exp_mat_2[baseline, data_sim.ant_2_array[baseline]] = 1"
   ]
  },
  {
   "cell_type": "code",
   "execution_count": 319,
   "metadata": {},
   "outputs": [],
   "source": [
    "def cost_function(\n",
    "    x, \n",
    "    N_red_baselines, Nants, baseline_cov_array, model_visibilities, a_mat,\n",
    "    gains_exp_mat, data_visibilities\n",
    "):\n",
    "\n",
    "    fitted_visibilities = x[-2*N_red_baselines:-N_red_baselines]+1j*x[-N_red_baselines:]\n",
    "    gains = x[:Nants]+1j*x[Nants:2*Nants]\n",
    "    \n",
    "    vis_diff = fitted_visibilities-model_visibilities\n",
    "    prior = np.abs(np.dot(np.matmul(np.conj(vis_diff), baseline_cov_array), vis_diff))\n",
    "    \n",
    "    fitted_visibilities_expanded = np.matmul(a_mat, fitted_visibilities)\n",
    "    gains_expanded = np.matmul(gains_exp_mat_1, gains)*np.matmul(gains_exp_mat_2, np.conj(gains))\n",
    "    prob = np.sum(np.abs(data_visibilities - gains_expanded*fitted_visibilities_expanded)**2)\n",
    "    \n",
    "    return prob+prior"
   ]
  },
  {
   "cell_type": "code",
   "execution_count": 320,
   "metadata": {},
   "outputs": [
    {
     "name": "stdout",
     "output_type": "stream",
     "text": [
      "0.0006656440980293309\n"
     ]
    }
   ],
   "source": [
    "a = cost_function(\n",
    "    x0, \n",
    "    N_red_baselines, Nants, baseline_cov_array, model_visibilities, a_mat,\n",
    "    gains_exp_mat, data_visibilities\n",
    ")\n",
    "print(a)"
   ]
  },
  {
   "cell_type": "code",
   "execution_count": 327,
   "metadata": {},
   "outputs": [],
   "source": [
    "def add_visibility_noise(visibilities, stddev):\n",
    "    noise = np.random.normal(0, stddev, np.shape(visibilities))\n",
    "    noisy_visibilities = np.copy(visibilities)\n",
    "    noisy_visibilities += noise\n",
    "    return noisy_visibilities"
   ]
  },
  {
   "cell_type": "code",
   "execution_count": 328,
   "metadata": {},
   "outputs": [
    {
     "name": "stdout",
     "output_type": "stream",
     "text": [
      "Optimization terminated successfully.\n",
      "[1.00001906+8.79733132e-06j 0.99982489-2.82662811e-04j\n",
      " 0.99980101+1.15840277e-06j 0.9999927 +8.12517952e-06j\n",
      " 1.00002046-1.52946981e-04j 0.99996043+3.30389628e-04j\n",
      " 1.00024225+2.35461269e-04j 0.99989903-4.85910103e-04j\n",
      " 1.00002666+1.19702339e-04j 1.00021238-8.51138549e-05j\n",
      " 1.00017224-3.23687253e-04j 0.9998535 +5.45185302e-04j\n",
      " 1.00019567+2.99406951e-04j 1.0001212 +5.64294494e-06j\n",
      " 0.99982597+2.23867040e-04j 0.99993733-2.55260584e-04j\n",
      " 0.99969457-3.51223153e-05j 0.99987189-8.33558649e-05j\n",
      " 0.99979009+2.98563342e-05j 0.99997414-2.16942306e-04j\n",
      " 1.0003347 +1.60284709e-04j 1.00020141-1.02514748e-04j\n",
      " 1.00003842-2.11507454e-04j 1.0000181 +1.90847580e-04j\n",
      " 1.00019193-1.29592768e-04j 0.99999868-9.56584022e-07j\n",
      " 0.99980203+2.90960691e-04j 1.00016107-2.26577555e-05j\n",
      " 0.99985861+3.84657199e-04j 0.99979039-2.53866460e-05j\n",
      " 0.99981343-1.77214448e-04j 0.99981322+7.84664547e-05j\n",
      " 0.99985828+1.00959869e-04j 1.00007008+9.79097167e-06j\n",
      " 0.99982165-8.91915074e-05j 1.00017335+4.74495716e-05j]\n"
     ]
    }
   ],
   "source": [
    "# Create data visibilities\n",
    "data_visibilities = add_visibility_noise(data_sim.data_array[:,0,0,0], 0.01)\n",
    "\n",
    "# Run optimization\n",
    "N_red_baselines = np.shape(baseline_groups)[0]\n",
    "Nants = data_sim.Nants_data\n",
    "\n",
    "result = scipy.optimize.minimize(\n",
    "    cost_function, x0, \n",
    "    args=(\n",
    "        N_red_baselines, Nants, baseline_cov_array, model_visibilities, a_mat, gains_exp_mat, data_visibilities\n",
    "    ),\n",
    "    method='Nelder-Mead', options={'maxiter':100000}\n",
    ")\n",
    "print(result.message)\n",
    "gains_fit = result.x[:Nants]+1j*result.x[Nants:2*Nants]\n",
    "print(gains_fit)"
   ]
  },
  {
   "cell_type": "code",
   "execution_count": 324,
   "metadata": {},
   "outputs": [
    {
     "name": "stdout",
     "output_type": "stream",
     "text": [
      " final_simplex: (array([[ 0.9997887 ,  1.0000255 ,  0.99992596, ...,  1.61959632,\n",
      "        -4.97414982, -1.04891889],\n",
      "       [ 0.9997892 ,  1.00002859,  0.99992547, ...,  1.61964157,\n",
      "        -4.97420697, -1.0488951 ],\n",
      "       [ 0.99978951,  1.00002568,  0.99992465, ...,  1.61967063,\n",
      "        -4.97423326, -1.04897495],\n",
      "       ...,\n",
      "       [ 0.99978758,  1.00002752,  0.99992592, ...,  1.61964713,\n",
      "        -4.97416723, -1.04891465],\n",
      "       [ 0.99979523,  1.00002597,  0.99992296, ...,  1.61969156,\n",
      "        -4.97416474, -1.04901817],\n",
      "       [ 0.99979038,  1.00002518,  0.99992484, ...,  1.61969479,\n",
      "        -4.97425485, -1.04888268]]), array([0.05706853, 0.05706855, 0.05706858, 0.05706866, 0.05706867,\n",
      "       0.0570687 , 0.05706875, 0.05706877, 0.05706882, 0.05706886,\n",
      "       0.05706899, 0.057069  , 0.05706902, 0.05706903, 0.05706904,\n",
      "       0.05706905, 0.05706905, 0.05706905, 0.05706908, 0.0570691 ,\n",
      "       0.05706911, 0.05706911, 0.05706914, 0.05706914, 0.05706916,\n",
      "       0.05706921, 0.05706924, 0.05706924, 0.05706926, 0.05706929,\n",
      "       0.05706929, 0.05706932, 0.05706932, 0.05706932, 0.05706933,\n",
      "       0.05706934, 0.05706934, 0.05706936, 0.05706937, 0.05706941,\n",
      "       0.05706943, 0.05706945, 0.05706946, 0.05706946, 0.0570695 ,\n",
      "       0.0570695 , 0.0570695 , 0.05706952, 0.05706952, 0.05706954,\n",
      "       0.05706954, 0.05706956, 0.05706956, 0.05706956, 0.05706957,\n",
      "       0.05706958, 0.05706958, 0.05706958, 0.05706961, 0.05706961,\n",
      "       0.05706962, 0.05706963, 0.05706964, 0.05706964, 0.05706965,\n",
      "       0.05706965, 0.05706966, 0.05706966, 0.05706967, 0.05706969,\n",
      "       0.0570697 , 0.05706971, 0.05706973, 0.05706974, 0.05706974,\n",
      "       0.05706975, 0.05706976, 0.05706977, 0.05706981, 0.05706981,\n",
      "       0.05706981, 0.05706981, 0.05706982, 0.05706982, 0.05706983,\n",
      "       0.05706985, 0.05706985, 0.05706985, 0.05706985, 0.05706985,\n",
      "       0.05706986, 0.05706988, 0.05706988, 0.05706988, 0.05706989,\n",
      "       0.05706991, 0.05706991, 0.05706991, 0.05706992, 0.05706992,\n",
      "       0.05706993, 0.05706993, 0.05706994, 0.05706994, 0.05706995,\n",
      "       0.05706995, 0.05706996, 0.05706996, 0.05706999, 0.05707   ,\n",
      "       0.05707   , 0.05707   , 0.05707001, 0.05707004, 0.05707005,\n",
      "       0.05707006, 0.05707007, 0.05707008, 0.05707008, 0.05707009,\n",
      "       0.05707009, 0.0570701 , 0.0570701 , 0.05707011, 0.05707011,\n",
      "       0.05707012, 0.05707012, 0.05707013, 0.05707013, 0.05707013,\n",
      "       0.05707014, 0.05707015, 0.05707015, 0.05707015, 0.05707016,\n",
      "       0.05707016, 0.05707016, 0.05707016, 0.05707017, 0.05707017,\n",
      "       0.05707018, 0.05707018, 0.05707018, 0.05707018, 0.05707018,\n",
      "       0.05707019, 0.0570702 , 0.05707021, 0.05707023, 0.05707024,\n",
      "       0.05707024, 0.05707025, 0.05707025, 0.05707025, 0.05707025,\n",
      "       0.05707026, 0.05707026, 0.05707027, 0.05707028, 0.05707028,\n",
      "       0.05707029, 0.05707029, 0.05707029, 0.05707029, 0.05707031,\n",
      "       0.05707031, 0.05707031, 0.05707032, 0.05707032, 0.05707033,\n",
      "       0.05707035, 0.05707035, 0.05707035, 0.05707036, 0.05707036,\n",
      "       0.05707036, 0.05707036, 0.05707037, 0.05707039, 0.05707039,\n",
      "       0.0570704 , 0.0570704 , 0.05707041, 0.05707041, 0.05707042,\n",
      "       0.05707042, 0.05707042, 0.05707042, 0.05707043, 0.05707043,\n",
      "       0.05707043, 0.05707043, 0.05707044]))\n",
      "           fun: 0.057068532123704496\n",
      "       message: 'Maximum number of function evaluations has been exceeded.'\n",
      "          nfev: 38400\n",
      "           nit: 34963\n",
      "        status: 1\n",
      "       success: False\n",
      "             x: array([ 9.99788702e-01,  1.00002550e+00,  9.99925964e-01,  1.00007421e+00,\n",
      "        9.99788491e-01,  9.99981750e-01,  1.00018366e+00,  9.99790404e-01,\n",
      "        9.99943990e-01,  1.00031572e+00,  9.99909444e-01,  9.99980337e-01,\n",
      "        9.99796960e-01,  1.00009531e+00,  9.99747103e-01,  9.99782516e-01,\n",
      "        1.00009299e+00,  1.00036223e+00,  1.00005236e+00,  1.00002328e+00,\n",
      "        9.99925312e-01,  9.99988618e-01,  1.00007445e+00,  9.99731352e-01,\n",
      "        1.00009110e+00,  1.00012341e+00,  1.00041382e+00,  9.99746191e-01,\n",
      "        1.00019834e+00,  1.00038127e+00,  9.99735314e-01,  9.99830893e-01,\n",
      "        9.99759091e-01,  1.00029198e+00,  9.99504600e-01,  9.99923326e-01,\n",
      "        1.27311783e-04,  1.04679654e-04,  1.48196125e-04,  3.80074928e-04,\n",
      "        2.43807981e-04,  1.52144219e-04, -2.35756884e-05, -2.99878085e-04,\n",
      "       -1.00936966e-04,  2.10147417e-04,  3.18457073e-04,  1.98255980e-05,\n",
      "        1.33704221e-04, -7.87308018e-05,  2.58204129e-04,  1.80971789e-04,\n",
      "        1.01880685e-04, -2.01179065e-04,  1.81324922e-04, -1.10278690e-04,\n",
      "        9.86776960e-05, -1.24787284e-04, -1.45088883e-04, -3.10044482e-05,\n",
      "       -3.07063001e-04,  9.65562200e-06, -1.64985009e-04, -6.00363587e-05,\n",
      "        1.18748142e-06, -2.68298974e-04,  4.48488994e-05,  2.53821383e-04,\n",
      "       -7.76307485e-05,  2.21140730e-04, -1.02831999e-04, -1.96375402e-04,\n",
      "       -1.69666939e+00, -7.97439018e+00,  1.51990065e+00, -1.16590168e+00,\n",
      "       -6.11274731e+00, -7.60961614e+00,  1.54654794e+00, -1.49789007e+00,\n",
      "        1.56070949e+00,  4.68324352e+00,  4.53546929e+00, -2.90468950e+00,\n",
      "        8.98745899e+00,  1.60317539e+00, -6.92333547e+00, -5.47279115e+00,\n",
      "        9.94801260e-01, -8.75392283e+00, -7.21931178e+00,  5.00347855e+00,\n",
      "        1.34631309e+00,  2.03665710e+00,  2.03698289e+00, -1.16123337e+00,\n",
      "        8.67444591e-01,  4.91783140e+00,  1.48790708e+00,  5.55876211e+00,\n",
      "       -2.23071907e+00,  6.13179120e+00,  6.29419868e+00, -5.58520214e+00,\n",
      "       -6.44714939e+00,  6.15552879e+00,  3.53692259e+00, -6.91876418e-01,\n",
      "       -4.28881900e+00,  6.10063121e+00,  4.52244365e+00, -3.21429487e+00,\n",
      "       -4.26384825e+00,  5.89610349e+00, -9.67545119e-01, -8.31489136e+00,\n",
      "       -4.72081791e+00,  2.25685389e-01,  4.64868536e+00,  2.88522948e+00,\n",
      "       -2.30283769e+00, -2.49685711e+00, -3.50398728e-01,  3.10715783e-01,\n",
      "       -6.69022705e+00, -2.54565878e-02,  1.30066073e+00, -7.58572708e+00,\n",
      "       -5.42332583e+00,  2.63642063e+00, -4.06488186e+00, -4.27416454e+00,\n",
      "       -9.12229670e+00,  6.85204511e+00,  5.65800544e+00,  1.74468969e+00,\n",
      "       -2.64875636e+00,  6.93743135e+00, -2.31944919e+00, -2.48041779e+00,\n",
      "        2.09020921e+00, -3.25265320e+00,  1.50078002e+00,  8.05525754e-01,\n",
      "        4.40644391e+00,  4.27437905e+00,  7.15690811e+00,  3.74744069e+00,\n",
      "       -1.05019206e+00, -1.76240949e+00, -3.77810577e+00, -4.21161422e+00,\n",
      "       -7.07263845e+00,  1.90485727e+00, -5.33390497e+00, -5.32562336e+00,\n",
      "       -1.73269417e+00, -4.99014665e-01,  3.82343748e+00,  3.36718436e+00,\n",
      "       -4.60862318e+00,  1.05307114e+01, -5.92066128e-01, -9.05474653e+00,\n",
      "        1.92688017e+00,  6.02376077e+00, -1.38141396e+00, -2.74083592e+00,\n",
      "        4.75470874e+00,  2.02476788e+00, -5.29074778e+00, -3.02752780e+00,\n",
      "        2.75554597e+00,  4.71557176e+00,  2.11511874e+00,  1.76076298e+00,\n",
      "        4.89452199e-01,  1.54881171e+00, -1.31487780e+00, -4.29669278e+00,\n",
      "       -2.52671392e+00,  1.04126264e+00,  3.86482850e+00,  2.32436776e-01,\n",
      "       -1.05394618e-01,  1.58636090e+00, -2.53824523e+00, -5.55104390e+00,\n",
      "        6.05088051e+00,  1.61959632e+00, -4.97414982e+00, -1.04891889e+00])\n"
     ]
    }
   ],
   "source": [
    "print(result)"
   ]
  },
  {
   "cell_type": "code",
   "execution_count": null,
   "metadata": {},
   "outputs": [],
   "source": [
    "# This returns all the baseline coordinates for a square array with antenna separations of 1\n",
    "# For an NxN rectangular array, the number of redundant baseline groups is 2N^2-2N+1\n",
    "# Excluding the autocorrelations, the number of redundant baseline groups is 2N^2-2N\n",
    "array_side_length_ants = 6\n",
    "N_baseline_groups = 2*array_side_length_ants**2-2*array_side_length_ants\n",
    "baseline_group_coords = np.zeros((N_baseline_groups, 2))\n",
    "bl_group_ind = 0\n",
    "for uval in range(array_side_length_ants):\n",
    "    if uval == 0:\n",
    "        vrange = range(1, array_side_length_ants)\n",
    "    else:\n",
    "        vrange = range(-(array_side_length_ants-1), array_side_length_ants)\n",
    "    for vval in vrange:\n",
    "        baseline_group_coords[bl_group_ind, 0] = uval\n",
    "        baseline_group_coords[bl_group_ind, 1] = vval\n",
    "        bl_group_ind += 1"
   ]
  }
 ],
 "metadata": {
  "kernelspec": {
   "display_name": "Python 3",
   "language": "python",
   "name": "python3"
  },
  "language_info": {
   "codemirror_mode": {
    "name": "ipython",
    "version": 3
   },
   "file_extension": ".py",
   "mimetype": "text/x-python",
   "name": "python",
   "nbconvert_exporter": "python",
   "pygments_lexer": "ipython3",
   "version": "3.7.3"
  }
 },
 "nbformat": 4,
 "nbformat_minor": 2
}
