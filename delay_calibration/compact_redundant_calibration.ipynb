{
 "cells": [
  {
   "cell_type": "code",
   "execution_count": 1,
   "metadata": {},
   "outputs": [],
   "source": [
    "import numpy as np\n",
    "import matplotlib.pyplot as plt\n",
    "import pandas\n",
    "import sys\n",
    "import scipy\n",
    "sys.path.append('/Users/ruby/EoR/pyuvdata')\n",
    "from pyuvdata import UVData"
   ]
  },
  {
   "cell_type": "code",
   "execution_count": 68,
   "metadata": {},
   "outputs": [],
   "source": [
    "# Load data from pyuvsim simulation:\n",
    "path = '/Users/ruby/EoR/compact_redundant_array_sim_May2020'\n",
    "data_sim = UVData()\n",
    "data_sim.read_uvh5('{}/square_grid_sim__results.uvh5'.format(path))"
   ]
  },
  {
   "cell_type": "code",
   "execution_count": 69,
   "metadata": {},
   "outputs": [
    {
     "name": "stdout",
     "output_type": "stream",
     "text": [
      "(61,)\n",
      "(666,)\n"
     ]
    }
   ],
   "source": [
    "# Inflate data\n",
    "print(np.shape(data_sim.baseline_array))\n",
    "data_sim.inflate_by_redundancy()\n",
    "print(np.shape(data_sim.baseline_array))"
   ]
  },
  {
   "cell_type": "code",
   "execution_count": 70,
   "metadata": {},
   "outputs": [],
   "source": [
    "# Remove autos\n",
    "data_sim.select(ant_str='cross')"
   ]
  },
  {
   "cell_type": "code",
   "execution_count": 112,
   "metadata": {},
   "outputs": [],
   "source": [
    "# Convert baselines to have u>0\n",
    "data_sim.conjugate_bls(convention='u>0', use_enu=False, uvw_tol=0.01)"
   ]
  },
  {
   "cell_type": "code",
   "execution_count": 113,
   "metadata": {},
   "outputs": [],
   "source": [
    "baseline_groups, vec_bin_centers, lengths, conjugates = data_sim.get_redundancies(\n",
    "    tol=0.1, use_antpos=False, include_conjugates=True, include_autos=True, conjugate_bls=False\n",
    ")"
   ]
  },
  {
   "cell_type": "code",
   "execution_count": 115,
   "metadata": {},
   "outputs": [
    {
     "name": "stdout",
     "output_type": "stream",
     "text": [
      "(60,)\n",
      "630\n",
      "(0,)\n"
     ]
    }
   ],
   "source": [
    "print(np.shape(baseline_groups))\n",
    "print(data_sim.Nbls)\n",
    "print(np.shape(conjugates))"
   ]
  },
  {
   "cell_type": "code",
   "execution_count": 116,
   "metadata": {},
   "outputs": [
    {
     "data": {
      "text/plain": [
       "60"
      ]
     },
     "execution_count": 116,
     "metadata": {},
     "output_type": "execute_result"
    }
   ],
   "source": [
    "np.shape(baseline_groups)[0]"
   ]
  },
  {
   "cell_type": "code",
   "execution_count": 117,
   "metadata": {},
   "outputs": [
    {
     "name": "stdout",
     "output_type": "stream",
     "text": [
      "(60, 3)\n",
      "[ 2.80000000e+01 -1.20564891e-10 -2.39678499e-10]\n"
     ]
    }
   ],
   "source": [
    "print(np.shape(vec_bin_centers))\n",
    "print(vec_bin_centers[1])"
   ]
  },
  {
   "cell_type": "code",
   "execution_count": 118,
   "metadata": {},
   "outputs": [],
   "source": [
    "# This returns all the baseline coordinates for a square array with antenna separations of 1\n",
    "# For an NxN rectangular array, the number of redundant baseline groups is 2N^2-2N+1\n",
    "# Excluding the autocorrelations, the number of redundant baseline groups is 2N^2-2N\n",
    "array_side_length_ants = 6\n",
    "N_baseline_groups = 2*array_side_length_ants**2-2*array_side_length_ants\n",
    "baseline_group_coords = np.zeros((N_baseline_groups, 2))\n",
    "bl_group_ind = 0\n",
    "for uval in range(array_side_length_ants):\n",
    "    if uval == 0:\n",
    "        vrange = range(1, array_side_length_ants)\n",
    "    else:\n",
    "        vrange = range(-(array_side_length_ants-1), array_side_length_ants)\n",
    "    for vval in vrange:\n",
    "        baseline_group_coords[bl_group_ind, 0] = uval\n",
    "        baseline_group_coords[bl_group_ind, 1] = vval\n",
    "        bl_group_ind += 1"
   ]
  },
  {
   "cell_type": "code",
   "execution_count": 109,
   "metadata": {},
   "outputs": [],
   "source": [
    "baseline_cov_array = np.diag(np.full(np.shape(baseline_groups)[0], 1.))\n",
    "min_bl_length = 14.\n",
    "tolerance = .01\n",
    "for bl_1 in range(np.shape(baseline_groups)[0]):\n",
    "    for bl_2 in [ind for ind in range(np.shape(baseline_groups)[0]) if ind != bl_1]:\n",
    "        bl_separation_sq = (\n",
    "            (vec_bin_centers[bl_1, 0]-vec_bin_centers[bl_2, 0])**2\n",
    "            + (vec_bin_centers[bl_1, 1]-vec_bin_centers[bl_2, 1])**2\n",
    "        )\n",
    "        if (min_bl_length-tolerance)**2 <= bl_separation_sq <= (min_bl_length+tolerance)**2:\n",
    "            baseline_cov_array[bl_1, bl_2] = 0.1617\n",
    "        elif 2*(min_bl_length-tolerance)**2 <= bl_separation_sq <= 2*(min_bl_length+tolerance)**2:\n",
    "            baseline_cov_array[bl_1, bl_2] = 0.0176"
   ]
  },
  {
   "cell_type": "code",
   "execution_count": 119,
   "metadata": {},
   "outputs": [
    {
     "name": "stdout",
     "output_type": "stream",
     "text": [
      "60\n",
      "60\n"
     ]
    }
   ],
   "source": [
    "# Check that the covariance matrix is full-rank\n",
    "print(N_baseline_groups)\n",
    "print(np.linalg.matrix_rank(baseline_cov_array))"
   ]
  },
  {
   "cell_type": "code",
   "execution_count": 120,
   "metadata": {},
   "outputs": [
    {
     "name": "stdout",
     "output_type": "stream",
     "text": [
      "[0.1617 0.0176 0.     0.     0.     1.     0.1617 0.     0.     0.\n",
      " 0.1617 0.0176 0.     0.     0.     0.     0.     0.     0.     0.\n",
      " 0.     0.     0.     0.     0.     0.     0.     0.     0.     0.\n",
      " 0.1617 0.     0.     0.     0.     0.     0.0176 0.     0.     0.\n",
      " 0.     0.     0.     0.     0.     0.     0.     0.     0.     0.\n",
      " 0.     0.     0.     0.     0.     0.     0.     0.     0.     0.    ]\n"
     ]
    }
   ],
   "source": [
    "print(baseline_cov_array[5,:])"
   ]
  },
  {
   "cell_type": "code",
   "execution_count": 108,
   "metadata": {},
   "outputs": [
    {
     "name": "stdout",
     "output_type": "stream",
     "text": [
      "[ 1.40000000e+01  1.40000000e+01 -2.02179606e-10]\n",
      "[ 1.40000000e+01 -6.02824457e-11 -1.19840138e-10]\n",
      "[ 2.80000000e+01  1.40000000e+01 -3.22019744e-10]\n",
      "[ 1.4000000e+01  2.8000000e+01 -7.5267792e-11]\n",
      "[-6.30251407e-11  1.40000000e+01 -8.23412449e-11]\n",
      "[ 2.80000000e+01 -1.40000000e+01 -1.57337254e-10]\n",
      "[ 1.40000000e+01 -2.80000000e+01 -1.64410707e-10]\n"
     ]
    }
   ],
   "source": [
    "print(vec_bin_centers[5])\n",
    "print(vec_bin_centers[0])\n",
    "print(vec_bin_centers[6])\n",
    "print(vec_bin_centers[10])\n",
    "print(vec_bin_centers[30])\n",
    "print(vec_bin_centers[32])\n",
    "print(vec_bin_centers[37])"
   ]
  },
  {
   "cell_type": "code",
   "execution_count": 104,
   "metadata": {},
   "outputs": [
    {
     "name": "stdout",
     "output_type": "stream",
     "text": [
      "980.0000000044953\n",
      "195.7201\n",
      "196.2801\n",
      "False\n"
     ]
    }
   ],
   "source": [
    "bl_separation_sq = (\n",
    "    (vec_bin_centers[5, 0]-vec_bin_centers[12, 0])**2 \n",
    "    + (np.abs(vec_bin_centers[5, 1])-np.abs(vec_bin_centers[12, 1]))**2\n",
    ")\n",
    "print(bl_separation_sq)\n",
    "print((min_bl_length-tolerance)**2)\n",
    "print((min_bl_length+tolerance)**2)\n",
    "print((min_bl_length-tolerance)**2 <= bl_separation_sq <= (min_bl_length+tolerance)**2)"
   ]
  },
  {
   "cell_type": "code",
   "execution_count": null,
   "metadata": {},
   "outputs": [],
   "source": [
    "def cost_function(x):\n",
    "    # x = [[real antenna gains], [imag antenna gains], [real visibilities], [imag visibilities]]"
   ]
  },
  {
   "cell_type": "code",
   "execution_count": null,
   "metadata": {},
   "outputs": [],
   "source": []
  }
 ],
 "metadata": {
  "kernelspec": {
   "display_name": "Python 3",
   "language": "python",
   "name": "python3"
  },
  "language_info": {
   "codemirror_mode": {
    "name": "ipython",
    "version": 3
   },
   "file_extension": ".py",
   "mimetype": "text/x-python",
   "name": "python",
   "nbconvert_exporter": "python",
   "pygments_lexer": "ipython3",
   "version": "3.7.3"
  }
 },
 "nbformat": 4,
 "nbformat_minor": 2
}
