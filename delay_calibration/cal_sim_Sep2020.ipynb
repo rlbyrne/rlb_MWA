{
 "cells": [
  {
   "cell_type": "code",
   "execution_count": 1,
   "metadata": {},
   "outputs": [],
   "source": [
    "import numpy as np\n",
    "import matplotlib\n",
    "import matplotlib.pyplot as plt\n",
    "import pandas\n",
    "import sys\n",
    "import scipy\n",
    "sys.path.append('/Users/ruby/EoR/pyuvdata')\n",
    "from pyuvdata import UVData\n",
    "import scipy.optimize\n",
    "import scipy.stats"
   ]
  },
  {
   "cell_type": "code",
   "execution_count": 2,
   "metadata": {},
   "outputs": [],
   "source": [
    "path = '/Users/ruby/EoR/compact_redundant_array_sim_May2020'\n",
    "uvw_match_tolerance = 1e-12"
   ]
  },
  {
   "cell_type": "code",
   "execution_count": 3,
   "metadata": {},
   "outputs": [
    {
     "name": "stderr",
     "output_type": "stream",
     "text": [
      "Telescope square_grid is not in known_telescopes.\n"
     ]
    }
   ],
   "source": [
    "# Load data from pyuvsim simulation:\n",
    "data_sim_compact = UVData()\n",
    "data_sim_compact.read_uvh5('{}/square_grid_sim__results.uvh5'.format(path))\n",
    "\n",
    "# Remove autos\n",
    "data_sim_compact.select(ant_str='cross')\n",
    "# Use only XX polarizations\n",
    "data_sim_compact.select(polarizations=[-5])\n",
    "\n",
    "# Convert baselines to have u>0\n",
    "data_sim_compact.conjugate_bls(convention='u>0', use_enu=False, uvw_tol=0.01)\n",
    "\n",
    "baseline_groups, vec_bin_centers, lengths, conjugates = data_sim_compact.get_redundancies(\n",
    "    tol=0.1, use_antpos=False, include_conjugates=True, include_autos=True, conjugate_bls=False\n",
    ")\n",
    "\n",
    "# Define constants\n",
    "N_red_baselines = np.shape(baseline_groups)[0]\n",
    "N_ants = data_sim_compact.Nants_data\n",
    "\n",
    "# Reorder visibilities\n",
    "data_sim_vis_no_noise = np.zeros(N_red_baselines, dtype=np.complex_)\n",
    "for red_group in range(N_red_baselines):\n",
    "    found_group = False\n",
    "    for red_group_2 in range(N_red_baselines):\n",
    "        if np.abs(np.sum(data_sim_compact.uvw_array[red_group]-vec_bin_centers[red_group_2])) < uvw_match_tolerance:\n",
    "            data_sim_vis_no_noise[red_group] = data_sim_compact.data_array[red_group_2, 0, 0, 0]\n",
    "            found_group = True\n",
    "            break\n",
    "    if not found_group:\n",
    "        print('ERROR: Visibility not found.')"
   ]
  },
  {
   "cell_type": "code",
   "execution_count": 4,
   "metadata": {},
   "outputs": [
    {
     "name": "stderr",
     "output_type": "stream",
     "text": [
      "Missing some redundant groups. Filling in available data.\n"
     ]
    }
   ],
   "source": [
    "# Make noiseless data\n",
    "data_sim_expanded = data_sim_compact.copy()\n",
    "data_sim_expanded.inflate_by_redundancy()\n",
    "\n",
    "# Define constant\n",
    "N_vis = data_sim_expanded.Nbls"
   ]
  },
  {
   "cell_type": "code",
   "execution_count": 5,
   "metadata": {},
   "outputs": [
    {
     "name": "stderr",
     "output_type": "stream",
     "text": [
      "Telescope square_grid is not in known_telescopes.\n"
     ]
    }
   ],
   "source": [
    "# Load data with missing sources from pyuvsim simulation:\n",
    "model_sim = UVData()\n",
    "model_sim.read_uvh5('{}/square_grid_100mjy_sim_results.uvh5'.format(path))\n",
    "#Added for testing\n",
    "#model_sim.read_uvh5('{}/square_grid_sim__results.uvh5'.format(path))\n",
    "\n",
    "# Remove autos\n",
    "model_sim.select(ant_str='cross')\n",
    "# Use only XX polarizations\n",
    "model_sim.select(polarizations=[-5])\n",
    "\n",
    "# Convert baselines to have u>0\n",
    "model_sim.conjugate_bls(convention='u>0', use_enu=False, uvw_tol=0.01)\n",
    "\n",
    "model_sim_visibilities = np.zeros(N_red_baselines, dtype=np.complex_)\n",
    "for red_group in range(N_red_baselines):\n",
    "    found_group = False\n",
    "    for red_group_2 in range(N_red_baselines):\n",
    "        if np.abs(np.sum(model_sim.uvw_array[red_group]-vec_bin_centers[red_group_2])) < uvw_match_tolerance:\n",
    "            model_sim_visibilities[red_group] = model_sim.data_array[red_group_2, 0, 0, 0]\n",
    "            found_group = True\n",
    "            break\n",
    "    if not found_group:\n",
    "        print('ERROR: Visibility not found.')"
   ]
  },
  {
   "cell_type": "code",
   "execution_count": 6,
   "metadata": {},
   "outputs": [],
   "source": [
    "# Create the baseline covariance matrix\n",
    "baseline_cov_array = np.diag(np.full(N_red_baselines, 1.))\n",
    "min_bl_length = 14.\n",
    "tolerance = .01\n",
    "for bl_1 in range(N_red_baselines):\n",
    "    for bl_2 in [ind for ind in range(N_red_baselines) if ind != bl_1]:\n",
    "        bl_separation_sq = (\n",
    "            (vec_bin_centers[bl_1, 0]-vec_bin_centers[bl_2, 0])**2\n",
    "            + (vec_bin_centers[bl_1, 1]-vec_bin_centers[bl_2, 1])**2\n",
    "        )\n",
    "        if (min_bl_length-tolerance)**2 <= bl_separation_sq <= (min_bl_length+tolerance)**2:\n",
    "            baseline_cov_array[bl_1, bl_2] = 0.1617\n",
    "        elif 2*(min_bl_length-tolerance)**2 <= bl_separation_sq <= 2*(min_bl_length+tolerance)**2:\n",
    "            baseline_cov_array[bl_1, bl_2] = 0.0176\n",
    "# Invert the matrix\n",
    "baseline_cov_inv = np.linalg.inv(baseline_cov_array)\n",
    "\n",
    "# Create the A matrix\n",
    "a_mat = np.zeros((N_vis, N_red_baselines))\n",
    "for vis_ind in range(N_vis):\n",
    "    for red_group in range(N_red_baselines):\n",
    "        if np.abs(np.sum(data_sim_expanded.uvw_array[vis_ind]-vec_bin_centers[red_group])) < uvw_match_tolerance:\n",
    "            a_mat[vis_ind, red_group] = 1\n",
    "            break\n",
    "        \n",
    "# Create gains expand matrices\n",
    "gains_exp_mat_1 = np.zeros((N_vis, N_ants), dtype=np.int)\n",
    "gains_exp_mat_2 = np.zeros((N_vis, N_ants), dtype=np.int)\n",
    "for baseline in range(N_vis):\n",
    "    gains_exp_mat_1[baseline, data_sim_expanded.ant_1_array[baseline]] = 1\n",
    "    gains_exp_mat_2[baseline, data_sim_expanded.ant_2_array[baseline]] = 1"
   ]
  },
  {
   "cell_type": "code",
   "execution_count": 7,
   "metadata": {},
   "outputs": [
    {
     "name": "stdout",
     "output_type": "stream",
     "text": [
      "0\n"
     ]
    }
   ],
   "source": [
    "print(data_sim_expanded.ant_1_array[0])"
   ]
  },
  {
   "cell_type": "code",
   "execution_count": 8,
   "metadata": {},
   "outputs": [
    {
     "data": {
      "image/png": "[encoded data removed]",
      "text/plain": [
       "<Figure size 432x288 with 2 Axes>"
      ]
     },
     "metadata": {
      "needs_background": "light"
     },
     "output_type": "display_data"
    },
    {
     "data": {
      "image/png": "[encoded data removed]",
      "text/plain": [
       "<Figure size 432x288 with 2 Axes>"
      ]
     },
     "metadata": {
      "needs_background": "light"
     },
     "output_type": "display_data"
    }
   ],
   "source": [
    "plt.imshow(baseline_cov_array)\n",
    "plt.colorbar()\n",
    "plt.show()\n",
    "\n",
    "plt.imshow(baseline_cov_inv)\n",
    "plt.colorbar()\n",
    "plt.show()"
   ]
  },
  {
   "cell_type": "code",
   "execution_count": null,
   "metadata": {},
   "outputs": [],
   "source": []
  },
  {
   "cell_type": "code",
   "execution_count": 62,
   "metadata": {},
   "outputs": [],
   "source": [
    "def cost_function(\n",
    "    x, \n",
    "    N_red_baselines, N_ants, baseline_cov_inv, model_visibilities, a_mat,\n",
    "    gains_exp_mat_1, gains_exp_mat_2, data_visibilities, data_stddev, model_stddev\n",
    "):\n",
    "\n",
    "    fitted_visibilities = x[-2*N_red_baselines:-N_red_baselines]+1j*x[-N_red_baselines:]\n",
    "    gains = x[:N_ants]+1j*x[N_ants:2*N_ants]\n",
    "    \n",
    "    cost = calc_negloglikelihood(\n",
    "        gains, fitted_visibilities, data_visibilities, model_visibilities, \n",
    "        baseline_cov_inv, a_mat, gains_exp_mat_1, gains_exp_mat_2,\n",
    "        data_stddev, model_stddev\n",
    "    )\n",
    "    return cost\n",
    "\n",
    "\n",
    "def calc_negloglikelihood(\n",
    "    gains, fitted_visibilities, data_visibilities, model_visibilities, \n",
    "    baseline_cov_inv, a_mat, gains_exp_mat_1, gains_exp_mat_2,\n",
    "    data_stddev, model_stddev\n",
    "):\n",
    "    \n",
    "    vis_diff = fitted_visibilities-model_visibilities\n",
    "    prior = np.abs(np.dot(np.matmul(np.conj(vis_diff), baseline_cov_inv), vis_diff))\n",
    "    \n",
    "    fitted_visibilities_expanded = np.matmul(a_mat, fitted_visibilities)\n",
    "    gains_expanded = np.matmul(gains_exp_mat_1, gains)*np.matmul(gains_exp_mat_2, np.conj(gains))\n",
    "    prob = np.sum(np.abs(data_visibilities - gains_expanded*fitted_visibilities_expanded)**2)\n",
    "    \n",
    "    return prob/data_stddev**2 + prior/model_stddev**2"
   ]
  },
  {
   "cell_type": "code",
   "execution_count": 10,
   "metadata": {},
   "outputs": [
    {
     "name": "stdout",
     "output_type": "stream",
     "text": [
      "2424.224641175818\n",
      "216.3504068670743\n"
     ]
    }
   ],
   "source": [
    "print(np.abs(np.dot(np.matmul(np.conj(model_sim_visibilities), baseline_cov_inv), model_sim_visibilities)))\n",
    "print(np.real(np.dot(np.matmul(model_sim_visibilities, baseline_cov_inv), model_sim_visibilities)))"
   ]
  },
  {
   "cell_type": "code",
   "execution_count": 158,
   "metadata": {},
   "outputs": [],
   "source": [
    "def jac_function(x, \n",
    "    N_red_baselines, N_ants, baseline_cov_inv, model_visibilities, a_mat,\n",
    "    gains_exp_mat_1, gains_exp_mat_2, data_visibilities, data_stddev, model_stddev\n",
    "):\n",
    "    \n",
    "    fitted_visibilities = x[-2*N_red_baselines:-N_red_baselines]+1j*x[-N_red_baselines:]\n",
    "    gains = x[:N_ants]+1j*x[N_ants:2*N_ants]\n",
    "    \n",
    "    gains_grad = calc_gains_grad(\n",
    "        gains, fitted_visibilities, data_visibilities,\n",
    "        a_mat, gains_exp_mat_1, gains_exp_mat_2,\n",
    "        data_stddev\n",
    "    )\n",
    "    vis_grad = calc_vis_grad(\n",
    "        gains, fitted_visibilities, data_visibilities, model_visibilities, \n",
    "        baseline_cov_inv, a_mat, gains_exp_mat_1, gains_exp_mat_2,\n",
    "        data_stddev, model_stddev\n",
    "    )\n",
    "    \n",
    "    grads = np.zeros(N_ants*2+N_red_baselines*2)\n",
    "    grads[:N_ants] = np.real(gains_grad)\n",
    "    grads[N_ants:2*N_ants] = np.imag(gains_grad)\n",
    "    grads[-2*N_red_baselines:-N_red_baselines] = np.real(vis_grad)\n",
    "    grads[-N_red_baselines:] = np.imag(vis_grad)\n",
    "    return grads\n",
    "\n",
    "\n",
    "def calc_gains_grad(\n",
    "    gains, fitted_visibilities, data_visibilities,\n",
    "    a_mat, gains_exp_mat_1, gains_exp_mat_2,\n",
    "    data_stddev\n",
    "):\n",
    "\n",
    "    gains1_expanded = np.matmul(gains_exp_mat_1, gains)\n",
    "    gains2_expanded = np.matmul(gains_exp_mat_2, gains)\n",
    "    vis_expanded = np.matmul(a_mat, fitted_visibilities)\n",
    "\n",
    "    gains_grad_term_1 = (\n",
    "        np.abs(gains1_expanded*vis_expanded)**2.*gains2_expanded\n",
    "        - np.conj(data_visibilities)*gains1_expanded*vis_expanded\n",
    "    )\n",
    "    gains_grad_term_2 = (\n",
    "        np.abs(np.conj(gains2_expanded)*vis_expanded)**2.*gains1_expanded\n",
    "        - data_visibilities*gains2_expanded*np.conj(vis_expanded)\n",
    "    )\n",
    "    gains_grad = (2./data_stddev**2.)*(\n",
    "        np.matmul(gains_exp_mat_2.T, gains_grad_term_1)\n",
    "        + np.matmul(gains_exp_mat_1.T, gains_grad_term_2)\n",
    "    )\n",
    "\n",
    "    return gains_grad\n",
    "\n",
    "\n",
    "def calc_vis_grad(\n",
    "    gains, fitted_visibilities, data_visibilities, model_visibilities, \n",
    "    baseline_cov_inv, a_mat, gains_exp_mat_1, gains_exp_mat_2,\n",
    "    data_stddev, model_stddev\n",
    "):\n",
    "\n",
    "    vis_diff = fitted_visibilities-model_visibilities\n",
    "    gains1_expanded = np.matmul(gains_exp_mat_1, gains)\n",
    "    gains2_expanded = np.matmul(gains_exp_mat_2, gains)\n",
    "    gains_expanded = gains1_expanded*np.conj(gains2_expanded)\n",
    "    \n",
    "    vis_grad_term_1 = (2./data_stddev**2.) * (\n",
    "        np.matmul(np.abs(gains_expanded)**2, a_mat**2.)*fitted_visibilities\n",
    "    )\n",
    "    vis_grad_term_2 = (-2./data_stddev**2.) * (\n",
    "        np.matmul(data_visibilities*np.conj(gains_expanded), a_mat)\n",
    "    )\n",
    "    vis_grad_term_3 = (2./model_stddev**2.) * np.matmul(baseline_cov_inv, vis_diff)\n",
    "    vis_grad = vis_grad_term_1 + vis_grad_term_2 + vis_grad_term_3\n",
    "\n",
    "    return vis_grad"
   ]
  },
  {
   "cell_type": "code",
   "execution_count": 160,
   "metadata": {},
   "outputs": [
    {
     "name": "stdout",
     "output_type": "stream",
     "text": [
      "120638.86534477165\n",
      "(120638.86534477168-646.9440771034793j)\n",
      "(-2193.9115105800934-13522.891689730752j)\n"
     ]
    }
   ],
   "source": [
    "# Check that the gradients are correct\n",
    "\n",
    "step_size = 1.\n",
    "use_ind = 0\n",
    "gains_test_1 = 1.+np.random.normal(0, .01, N_ants)+1j*np.random.normal(0, .01, N_ants)\n",
    "#gains_test_1 = np.full(N_ants, 0.+0.j)\n",
    "gains_test_1[use_ind+1] = 1.\n",
    "gains_test_2 = np.copy(gains_test_1)\n",
    "gains_test_2[use_ind] += step_size\n",
    "vis_test = model_sim_visibilities+np.random.normal(0, .01, N_red_baselines)+1j*np.random.normal(0, .01, N_red_baselines)\n",
    "vis_test_1 = np.copy(model_sim_visibilities)\n",
    "vis_test_2 = np.copy(model_sim_visibilities)\n",
    "#vis_test_2[use_ind] += step_size\n",
    "#data_test = np.matmul(a_mat, model_sim_visibilities)\n",
    "data_test = np.zeros(N_vis)\n",
    "\n",
    "data_stddev_use = .2\n",
    "model_stddev_use = model_stddev_sim\n",
    "\n",
    "baseline_cov_inv = np.diag(np.full(np.shape(baseline_cov_inv)[0], 1.))\n",
    "        \n",
    "# Check the cost function to ensure it's actually minimizing\n",
    "cost1 = calc_negloglikelihood(\n",
    "    gains_test_1, vis_test_1, data_test, model_sim_visibilities, \n",
    "    baseline_cov_inv, a_mat, gains_exp_mat_1, gains_exp_mat_2,\n",
    "    data_stddev_use, model_stddev_use\n",
    ")\n",
    "cost2 = calc_negloglikelihood(\n",
    "    gains_test_2, vis_test_2, data_test, model_sim_visibilities, \n",
    "    baseline_cov_inv, a_mat, gains_exp_mat_1, gains_exp_mat_2,\n",
    "    data_stddev_use, model_stddev_use\n",
    ")\n",
    "grad_calculated = (cost2-cost1)/step_size\n",
    "\n",
    "gains_grad = calc_gains_grad(\n",
    "    (gains_test_1+gains_test_2)/2., (vis_test_1+vis_test_2)/2., data_test,\n",
    "    a_mat, gains_exp_mat_1, gains_exp_mat_2,\n",
    "    data_stddev_use\n",
    ")\n",
    "vis_grad = calc_vis_grad(\n",
    "    (gains_test_1+gains_test_2)/2., (vis_test_1+vis_test_2)/2., data_test, model_sim_visibilities, \n",
    "    baseline_cov_inv, a_mat, gains_exp_mat_1, gains_exp_mat_2,\n",
    "    data_stddev_use, model_stddev_use\n",
    ")\n",
    "\n",
    "print(grad_calculated)\n",
    "print(gains_grad[use_ind])\n",
    "print(vis_grad[use_ind])"
   ]
  },
  {
   "cell_type": "code",
   "execution_count": 16,
   "metadata": {},
   "outputs": [],
   "source": [
    "def produce_kde(data, xvals, yvals):\n",
    "    \n",
    "    data_real = np.real(data).flatten()\n",
    "    data_imag = np.imag(data).flatten()\n",
    "    rvs = np.append(data_real[:,np.newaxis],\n",
    "                    data_imag[:,np.newaxis],\n",
    "                    axis=1)\n",
    "\n",
    "    kde = scipy.stats.kde.gaussian_kde(rvs.T)\n",
    "\n",
    "    # Regular grid to evaluate KDE upon\n",
    "    x,y = np.meshgrid(xvals, yvals)\n",
    "    grid_coords = np.append(x.reshape(-1,1),y.reshape(-1,1),axis=1)\n",
    "\n",
    "    kde_vals = kde(grid_coords.T)\n",
    "    kde_vals = kde_vals.reshape(len(xvals),len(yvals))\n",
    "    \n",
    "    percent_vals = np.zeros_like(kde_vals)\n",
    "    kde_total = np.sum(kde_vals)\n",
    "    running_total = 0.\n",
    "    for val in np.sort(kde_vals.flatten())[::-1]: # Sort values in reverse order\n",
    "        percent_vals[np.where(kde_vals == val)] = running_total/kde_total\n",
    "        running_total += val\n",
    "    \n",
    "    return kde_vals, percent_vals"
   ]
  },
  {
   "cell_type": "code",
   "execution_count": 45,
   "metadata": {},
   "outputs": [
    {
     "name": "stdout",
     "output_type": "stream",
     "text": [
      "0.4092157966687509\n"
     ]
    },
    {
     "data": {
      "image/png": "[encoded data removed]",
      "text/plain": [
       "<Figure size 720x576 with 1 Axes>"
      ]
     },
     "metadata": {
      "needs_background": "light"
     },
     "output_type": "display_data"
    }
   ],
   "source": [
    "# Calculate deviation between model and true data\n",
    "model_stddev_sim = np.sqrt(np.mean(np.abs(model_sim_visibilities-data_sim_vis_no_noise)**2)/2.)\n",
    "print(model_stddev_sim)\n",
    "\n",
    "plt.figure(figsize=[10,8])\n",
    "plt.plot(\n",
    "    np.real(model_sim_visibilities-data_sim_vis_no_noise).flatten(), \n",
    "    np.imag(model_sim_visibilities-data_sim_vis_no_noise).flatten(),\n",
    "    'x', color='black', markersize=5\n",
    ")\n",
    "plt.axis('square')\n",
    "plt.xlim(-1.15,1.15)\n",
    "plt.ylim(-1.15,1.15)\n",
    "#cont = plt.contour(bins, bins, percent_plot, levels=[.5,.9], colors='white', linestyles=['solid','dashed'], linewidths=1)\n",
    "plt.scatter([0],[0],marker='P',color='white',edgecolors='black',s=150)\n",
    "circle = plt.Circle((0, 0), model_stddev_sim, fill=False, color='black')\n",
    "plt.gcf().gca().add_artist(circle)\n",
    "circle = plt.Circle((0, 0), data_stddev, fill=False, color='blue', linestyle='dashed')\n",
    "plt.gcf().gca().add_artist(circle)\n",
    "#plt.clabel(cont, inline=2, fontsize=10)\n",
    "plt.xlabel('Model Visibility Error, Real Part (Jy)')\n",
    "plt.ylabel('Model Visibility Error, Imaginary Part (Jy)')\n",
    "#plt.title(data_titles[data_set_ind])\n",
    "plt.tight_layout() # Ensure that axes labels don't get cut off\n",
    "#plt.savefig('{}/{}'.format(save_path, 'model_vis_scatter.png'),dpi=600)\n",
    "plt.show()"
   ]
  },
  {
   "cell_type": "code",
   "execution_count": 34,
   "metadata": {},
   "outputs": [],
   "source": [
    "def optimize_with_scipy_simple(\n",
    "    data_visibilities, model_visibilities, \n",
    "    baseline_cov_inv, a_mat, gains_exp_mat_1, gains_exp_mat_2,\n",
    "    N_red_baselines, N_ants, data_stddev, model_stddev,\n",
    "    gains_init=None, fitted_visibilities_init=None\n",
    "):\n",
    "\n",
    "    method = 'Powell'\n",
    "    maxiter = 100000\n",
    "    xtol = 1e-20\n",
    "    ftol = 1e-20\n",
    "    \n",
    "    if gains_init is None: # Initialize the gains to 1\n",
    "        gains_init = np.full(N_ants, 1.+0.j)\n",
    "    if fitted_visibilities_init is None: # Initialize the fitted visibilities to the model visibilities\n",
    "        fitted_visibilities_init = model_visibilities\n",
    "    # Expand the initialized values\n",
    "    x0 = np.concatenate((\n",
    "        np.real(gains_init), np.imag(gains_init),\n",
    "        np.real(fitted_visibilities_init), np.imag(fitted_visibilities_init)\n",
    "    ))\n",
    "\n",
    "    # Minimize the cost function\n",
    "    result = scipy.optimize.minimize(\n",
    "        cost_function, x0, \n",
    "        args=(\n",
    "            N_red_baselines, N_ants, baseline_cov_inv, \n",
    "            model_visibilities, a_mat, gains_exp_mat_1, gains_exp_mat_2, data_visibilities,\n",
    "            data_stddev, model_stddev\n",
    "        ),\n",
    "        method=method, options={'xtol': xtol, 'ftol': ftol, 'maxiter': maxiter}\n",
    "    )\n",
    "    print(result.message)\n",
    "\n",
    "    gains_fit = result.x[:N_ants]+1j*result.x[N_ants:2*N_ants]\n",
    "    vis_fit = result.x[-2*N_red_baselines:-N_red_baselines]+1j*result.x[-N_red_baselines:]\n",
    "    # Ensure that the angle of the gains is mean-zero\n",
    "    avg_angle = np.arctan2(np.mean(np.sin(np.angle(gains_fit))), np.mean(np.cos(np.angle(gains_fit))))\n",
    "    gains_fit *= np.cos(avg_angle) - 1j*np.sin(avg_angle)\n",
    "\n",
    "    return gains_fit, vis_fit"
   ]
  },
  {
   "cell_type": "code",
   "execution_count": 19,
   "metadata": {},
   "outputs": [],
   "source": [
    "def optimize_with_scipy_jac(\n",
    "    data_visibilities, model_visibilities, \n",
    "    baseline_cov_inv, a_mat, gains_exp_mat_1, gains_exp_mat_2,\n",
    "    N_red_baselines, N_ants, data_stddev, model_stddev,\n",
    "    gains_init=None, fitted_visibilities_init=None\n",
    "):\n",
    "\n",
    "    method = 'BFGS'\n",
    "    maxiter = 1e5\n",
    "\n",
    "    if gains_init is None: # Initialize the gains to 1\n",
    "        gains_init = np.full(N_ants, 1.+0.j)\n",
    "    if fitted_visibilities_init is None: # Initialize the fitted visibilities to the model visibilities\n",
    "        fitted_visibilities_init = model_visibilities\n",
    "    # Expand the initialized values\n",
    "    x0 = np.concatenate((\n",
    "        np.real(gains_init), np.imag(gains_init),\n",
    "        np.real(fitted_visibilities_init), np.imag(fitted_visibilities_init)\n",
    "    ))\n",
    "\n",
    "    # Minimize the cost function\n",
    "    result = scipy.optimize.minimize(\n",
    "        cost_function, x0, jac=jac_function,\n",
    "        args=(\n",
    "            N_red_baselines, N_ants, baseline_cov_inv, \n",
    "            model_visibilities, a_mat, gains_exp_mat_1, gains_exp_mat_2, data_visibilities,\n",
    "            data_stddev, model_stddev\n",
    "        ),\n",
    "        method=method, options={'disp': True, 'maxiter': maxiter}\n",
    "    )\n",
    "    print(result.message)\n",
    "\n",
    "    gains_fit = result.x[:N_ants]+1j*result.x[N_ants:2*N_ants]\n",
    "    vis_fit = result.x[-2*N_red_baselines:-N_red_baselines]+1j*result.x[-N_red_baselines:]\n",
    "    # Ensure that the angle of the gains is mean-zero\n",
    "    avg_angle = np.arctan2(np.mean(np.sin(np.angle(gains_fit))), np.mean(np.cos(np.angle(gains_fit))))\n",
    "    gains_fit *= np.cos(avg_angle) - 1j*np.sin(avg_angle)\n",
    "\n",
    "    return gains_fit, vis_fit"
   ]
  },
  {
   "cell_type": "code",
   "execution_count": 218,
   "metadata": {},
   "outputs": [],
   "source": [
    "def gains_cost_function(\n",
    "    gains_expanded, \n",
    "    fitted_visibilities, N_red_baselines, N_ants, baseline_cov_inv, model_visibilities, a_mat,\n",
    "    gains_exp_mat_1, gains_exp_mat_2, data_visibilities, data_stddev, model_stddev\n",
    "):\n",
    "\n",
    "    gains = gains_expanded[:N_ants]+1j*gains_expanded[N_ants:]\n",
    "    \n",
    "    cost = calc_negloglikelihood(\n",
    "        gains, fitted_visibilities, data_visibilities, model_visibilities, \n",
    "        baseline_cov_inv, a_mat, gains_exp_mat_1, gains_exp_mat_2,\n",
    "        data_stddev, model_stddev\n",
    "    )\n",
    "    return cost\n",
    "\n",
    "\n",
    "def gains_jac_function(\n",
    "    gains_expanded, \n",
    "    fitted_visibilities, N_red_baselines, N_ants, baseline_cov_inv, model_visibilities, a_mat,\n",
    "    gains_exp_mat_1, gains_exp_mat_2, data_visibilities, data_stddev, model_stddev\n",
    "):\n",
    "\n",
    "    gains = gains_expanded[:N_ants]+1j*gains_expanded[N_ants:]\n",
    "    gains_grad = calc_gains_grad(\n",
    "        gains, fitted_visibilities, data_visibilities,\n",
    "        a_mat, gains_exp_mat_1, gains_exp_mat_2,\n",
    "        data_stddev\n",
    "    )\n",
    "    gains_grad_expanded = np.concatenate((np.real(gains_grad), np.imag(gains_grad)))\n",
    "    return gains_grad_expanded\n",
    "\n",
    "\n",
    "def vis_cost_function(\n",
    "    vis_expanded, \n",
    "    gains, N_red_baselines, N_ants, baseline_cov_inv, model_visibilities, a_mat,\n",
    "    gains_exp_mat_1, gains_exp_mat_2, data_visibilities, data_stddev, model_stddev\n",
    "):\n",
    "\n",
    "    fitted_visibilities = vis_expanded[:N_red_baselines]+1j*vis_expanded[N_red_baselines:]\n",
    "    cost = calc_negloglikelihood(\n",
    "        gains, fitted_visibilities, data_visibilities, model_visibilities, \n",
    "        baseline_cov_inv, a_mat, gains_exp_mat_1, gains_exp_mat_2,\n",
    "        data_stddev, model_stddev\n",
    "    )\n",
    "    return cost \n",
    "\n",
    "\n",
    "def vis_jac_function(\n",
    "    vis_expanded, \n",
    "    gains, N_red_baselines, N_ants, baseline_cov_inv, model_visibilities, a_mat,\n",
    "    gains_exp_mat_1, gains_exp_mat_2, data_visibilities, data_stddev, model_stddev\n",
    "):\n",
    "\n",
    "    fitted_visibilities = vis_expanded[:N_red_baselines]+1j*vis_expanded[N_red_baselines:]\n",
    "    vis_grad = calc_vis_grad(\n",
    "        gains, fitted_visibilities, data_visibilities, model_visibilities, \n",
    "        baseline_cov_inv, a_mat, gains_exp_mat_1, gains_exp_mat_2,\n",
    "        data_stddev, model_stddev\n",
    "    )\n",
    "    vis_grad_expanded = np.concatenate((np.real(vis_grad), np.imag(vis_grad)))\n",
    "    return vis_grad_expanded "
   ]
  },
  {
   "cell_type": "code",
   "execution_count": 235,
   "metadata": {},
   "outputs": [],
   "source": [
    "def optimize_in_two_parts(\n",
    "    data_visibilities, model_visibilities, \n",
    "    baseline_cov_inv, a_mat, gains_exp_mat_1, gains_exp_mat_2,\n",
    "    N_red_baselines, N_ants, data_stddev, model_stddev,\n",
    "    gains_init=None, fitted_visibilities_init=None\n",
    "):\n",
    "\n",
    "    method = 'BFGS'\n",
    "    n_iter = 1000\n",
    "\n",
    "    if gains_init is None: # Initialize the gains to 1\n",
    "        gains_init = np.full(N_ants, 1.+0.j)\n",
    "    if fitted_visibilities_init is None: # Initialize the fitted visibilities to the model visibilities\n",
    "        fitted_visibilities_init = model_visibilities\n",
    "    \n",
    "    fitted_visibilities = np.copy(fitted_visibilities_init)\n",
    "    gains = np.copy(gains_init)\n",
    "    \n",
    "    for iter_ind in range(n_iter):\n",
    "    \n",
    "        # Calculate gains\n",
    "        # Expand the initialized values\n",
    "        gains_expanded = np.concatenate((\n",
    "            np.real(gains), np.imag(gains)\n",
    "        ))\n",
    "        # Minimize the gains cost function\n",
    "        result = scipy.optimize.minimize(\n",
    "            gains_cost_function, gains_expanded, jac=gains_jac_function,\n",
    "            args=(\n",
    "                fitted_visibilities, N_red_baselines, N_ants, baseline_cov_inv, \n",
    "                model_visibilities, a_mat, gains_exp_mat_1, gains_exp_mat_2, data_visibilities,\n",
    "                data_stddev, model_stddev\n",
    "            ),\n",
    "            method=method, options={'disp': False}\n",
    "        )\n",
    "        # Update gains\n",
    "        gains = result.x[:N_ants]+1j*result.x[N_ants:]\n",
    "        # Ensure that the angle of the gains is mean-zero\n",
    "        avg_angle = np.arctan2(np.mean(np.sin(np.angle(gains))), np.mean(np.cos(np.angle(gains))))\n",
    "        gains *= np.cos(avg_angle) - 1j*np.sin(avg_angle)\n",
    "\n",
    "        # Calculate visibilities\n",
    "        # Expand the initialized values\n",
    "        vis_expanded = np.concatenate((\n",
    "            np.real(fitted_visibilities), np.imag(fitted_visibilities)\n",
    "        ))\n",
    "        result = scipy.optimize.minimize(\n",
    "            vis_cost_function, vis_expanded, jac=vis_jac_function,\n",
    "            args=(\n",
    "                gains, N_red_baselines, N_ants, baseline_cov_inv, \n",
    "                model_visibilities, a_mat, gains_exp_mat_1, gains_exp_mat_2, data_visibilities,\n",
    "                data_stddev, model_stddev\n",
    "            ),\n",
    "            method=method, options={'disp': False}\n",
    "        )\n",
    "        # Update visibilities\n",
    "        fitted_visibilities = result.x[:N_red_baselines]+1j*result.x[N_red_baselines:]    \n",
    "\n",
    "    return gains, fitted_visibilities"
   ]
  },
  {
   "cell_type": "code",
   "execution_count": 22,
   "metadata": {},
   "outputs": [],
   "source": [
    "def optimize_with_scipy_constrained(\n",
    "    data_visibilities, model_visibilities, \n",
    "    baseline_cov_inv, a_mat, gains_exp_mat_1, gains_exp_mat_2,\n",
    "    N_red_baselines, N_ants, data_stddev, model_stddev,\n",
    "    gains_init=None, fitted_visibilities_init=None\n",
    "):\n",
    "\n",
    "    #method = 'BFGS'\n",
    "    method = 'trust-constr'\n",
    "    maxiter = 1e5 # Defaults to 1000\n",
    "\n",
    "    if gains_init is None: # Initialize the gains to 1\n",
    "        gains_init = np.full(N_ants, 1.+0.j)\n",
    "    if fitted_visibilities_init is None: # Initialize the fitted visibilities to the model visibilities\n",
    "        fitted_visibilities_init = model_visibilities\n",
    "    # Expand the initialized values\n",
    "    x0 = np.concatenate((\n",
    "        np.real(gains_init), np.imag(gains_init),\n",
    "        np.real(fitted_visibilities_init), np.imag(fitted_visibilities_init)\n",
    "    ))\n",
    "    \n",
    "    # Produce constraint\n",
    "    constraint_vec = np.zeros(2*N_ants + 2*N_red_baselines)\n",
    "    constraint_vec[N_ants:2*N_ants] = 1\n",
    "    constraint = scipy.optimize.LinearConstraint(constraint_vec.T, 0, 0)\n",
    "\n",
    "    # Minimize the cost function\n",
    "    result = scipy.optimize.minimize(\n",
    "        cost_function, x0, jac=jac_function,\n",
    "        constraints=[constraint],\n",
    "        args=(\n",
    "            N_red_baselines, N_ants, baseline_cov_inv, \n",
    "            model_visibilities, a_mat, gains_exp_mat_1, gains_exp_mat_2, data_visibilities,\n",
    "            data_stddev, model_stddev\n",
    "        ),\n",
    "        method=method, options={'disp': True, 'maxiter': maxiter}\n",
    "    )\n",
    "    print(result.message)\n",
    "\n",
    "    gains_fit = result.x[:N_ants]+1j*result.x[N_ants:2*N_ants]\n",
    "    vis_fit = result.x[-2*N_red_baselines:-N_red_baselines]+1j*result.x[-N_red_baselines:]\n",
    "    # Ensure that the angle of the gains is mean-zero\n",
    "    avg_angle = np.arctan2(np.mean(np.sin(np.angle(gains_fit))), np.mean(np.cos(np.angle(gains_fit))))\n",
    "    gains_fit *= np.cos(avg_angle) - 1j*np.sin(avg_angle)\n",
    "\n",
    "    return gains_fit, vis_fit"
   ]
  },
  {
   "cell_type": "code",
   "execution_count": 23,
   "metadata": {},
   "outputs": [],
   "source": [
    "def optimize_with_gradient_descent(\n",
    "    data_visibilities, model_visibilities, \n",
    "    baseline_cov_inv, a_mat, gains_exp_mat_1, gains_exp_mat_2,\n",
    "    N_red_baselines, N_ants, data_stddev, model_stddev,\n",
    "    gains_init=None, fitted_visibilities_init=None\n",
    "):\n",
    "    \n",
    "    n_iter = 100\n",
    "    learning_rate = .1\n",
    "    term_condition = .035\n",
    "    \n",
    "    if gains_init is None: # Initialize the gains to 1\n",
    "        gains_init = np.full(N_ants, 1.+0.j)\n",
    "    if fitted_visibilities_init is None: # Initialize the fitted visibilities to the model visibilities\n",
    "        fitted_visibilities_init = model_visibilities\n",
    "    \n",
    "    # Initialize values\n",
    "    gains_fit = np.copy(gains_init)\n",
    "    vis_fit = np.copy(fitted_visibilities_init)\n",
    "    \n",
    "    iter_ind = 0\n",
    "    term_condition_fulfilled = 0\n",
    "    #while term_condition_fulfilled < 3:\n",
    "    for iter_ind in range(n_iter):\n",
    "        \n",
    "        # Check the cost function to ensure it's actually minimizing\n",
    "        negloglikelihood = calc_negloglikelihood(\n",
    "            gains_fit, vis_fit, data_visibilities, model_visibilities, \n",
    "            baseline_cov_inv, a_mat, gains_exp_mat_1, gains_exp_mat_2,\n",
    "            data_stddev, model_stddev\n",
    "        )\n",
    "        print(negloglikelihood)\n",
    "        \n",
    "        gains_grad = calc_gains_grad(\n",
    "            gains_fit, vis_fit, data_visibilities,\n",
    "            a_mat, gains_exp_mat_1, gains_exp_mat_2,\n",
    "            data_stddev\n",
    "        )\n",
    "        vis_grad = calc_vis_grad(\n",
    "            gains_fit, vis_fit, data_visibilities, model_visibilities, \n",
    "            baseline_cov_inv, a_mat, gains_exp_mat_1, gains_exp_mat_2,\n",
    "            data_stddev, model_stddev\n",
    "        )\n",
    "        \n",
    "        if iter_ind > 0: # Use the Barzilai–Borwein method of determining step size\n",
    "            numerator = np.abs(\n",
    "                np.sum((gains_fit-gains_fit_old)*(gains_grad-gains_grad_old)) \n",
    "                + np.sum((vis_fit-vis_fit_old)*(vis_grad-vis_grad_old))\n",
    "            )\n",
    "            denominator = np.sum(np.abs(gains_grad-gains_grad_old)**2.) + np.sum(np.abs(vis_grad-vis_grad_old)**2.)\n",
    "            step_size = numerator/denominator\n",
    "        else: # Arbitrary, but not too big\n",
    "            step_size = np.min([data_stddev, model_stddev])/(\n",
    "                1000.*np.sqrt(np.sum(np.abs(gains_grad)**2.) + np.sum(np.abs(vis_grad**2.)))\n",
    "            )\n",
    "        \n",
    "        gains_fit_old = np.copy(gains_fit)\n",
    "        vis_fit_old = np.copy(vis_fit)\n",
    "        gains_grad_old = np.copy(gains_grad)\n",
    "        vis_grad_old = np.copy(vis_grad)\n",
    "        \n",
    "        gains_fit -= learning_rate*step_size*gains_grad\n",
    "        vis_fit -= learning_rate*step_size*vis_grad\n",
    "\n",
    "        # Ensure that the angle of the gains is mean-zero\n",
    "        avg_angle = np.arctan2(np.mean(np.sin(np.angle(gains_fit))), np.mean(np.cos(np.angle(gains_fit))))\n",
    "        gains_fit *= np.cos(avg_angle) - 1j*np.sin(avg_angle)\n",
    "        \n",
    "        # Check termination condition\n",
    "        #print(learning_rate*step_size*np.sqrt(np.sum(np.abs(gains_grad)**2)+np.sum(np.abs(vis_grad)**2)))\n",
    "        if learning_rate*step_size*np.sqrt(np.sum(np.abs(gains_grad)**2)+np.sum(np.abs(vis_grad)**2)) < term_condition:\n",
    "            term_condition_fulfilled += 1\n",
    "        else:\n",
    "            term_condition_fulfilled = 0\n",
    "            \n",
    "        iter_ind += 1\n",
    "\n",
    "    return gains_fit, vis_fit"
   ]
  },
  {
   "cell_type": "code",
   "execution_count": 187,
   "metadata": {},
   "outputs": [
    {
     "name": "stdout",
     "output_type": "stream",
     "text": [
      "4562.0444079760655\n",
      "4561.872957222712\n",
      "4525.009211933614\n",
      "4492.639379777402\n",
      "4464.509001759618\n",
      "4439.970229026758\n",
      "4418.47708393123\n",
      "4399.573436363019\n",
      "4382.877739771211\n",
      "4368.07033921592\n",
      "4354.882976396786\n",
      "4343.090110487509\n",
      "4332.501738437584\n",
      "4322.957453298507\n",
      "4314.321524680526\n",
      "4306.478823163612\n",
      "4299.331441674053\n",
      "4292.795892595486\n",
      "4286.800780635976\n",
      "4281.28486899587\n",
      "4276.195470822682\n",
      "4271.487109838018\n",
      "4267.120403824843\n",
      "4263.061132741117\n",
      "4259.279459883256\n",
      "4255.74928001161\n",
      "4252.447672876705\n",
      "4249.354444319652\n",
      "4246.451740202159\n",
      "4243.723720965994\n",
      "4241.1562867225575\n",
      "4238.736844508396\n",
      "4236.454110775474\n",
      "4234.297943369041\n",
      "4232.259198223963\n",
      "4230.329606818664\n",
      "4228.50167109389\n",
      "4226.76857309572\n",
      "4225.124097059098\n",
      "4223.562562026109\n",
      "4222.0787634061835\n",
      "4220.667922144826\n",
      "4219.325640382472\n",
      "4218.047862663753\n",
      "4216.830841905918\n",
      "4215.671109458727\n",
      "4214.565448691216\n",
      "4213.51087162672\n",
      "4212.504598219492\n",
      "4211.544037926762\n",
      "4210.626773280434\n",
      "4209.750545205508\n",
      "4208.913239867998\n",
      "4208.112876865784\n",
      "4207.347598601233\n",
      "4206.615660696446\n",
      "4205.9154233306135\n",
      "4205.245343394513\n",
      "4204.603967371214\n",
      "4203.989924863019\n",
      "4203.401922695291\n",
      "4202.838739535985\n",
      "4202.299220977037\n",
      "4201.7822750307505\n",
      "4201.286867999012\n",
      "4200.812020678707\n",
      "4200.3568048706375\n",
      "4199.92034016277\n",
      "4199.501790962065\n",
      "4199.100363751908\n",
      "4198.715304554481\n",
      "4198.34589657974\n",
      "4197.991458044525\n",
      "4197.651340146942\n",
      "4197.324925182834\n",
      "4197.01162479226\n",
      "4196.710878325079\n",
      "4196.422151316232\n",
      "4196.144934061524\n",
      "4195.878740285974\n",
      "4195.623105897729\n",
      "4195.377587820537\n",
      "4195.141762899219\n",
      "4194.915226872344\n",
      "4194.697593407207\n",
      "4194.488493192624\n",
      "4194.287573085348\n",
      "4194.094495306276\n",
      "4193.908936682972\n",
      "4193.730587935162\n",
      "4193.559153000544\n",
      "4193.394348398104\n",
      "4193.235902626022\n",
      "4193.083555592688\n",
      "4192.937058077642\n",
      "4192.796171221852\n",
      "4192.660666044156\n",
      "4192.530322982835\n",
      "4192.404931460809\n",
      "4192.28428947304\n",
      "[0.99957913-0.00647218j 1.00126776-0.01242077j 0.99547549-0.01037408j\n",
      " 0.99707883-0.0103844j  0.99378261-0.00617963j 0.99347909-0.00331384j\n",
      " 0.99128466-0.00189673j 0.9910158 -0.0041549j  0.98985703-0.00466749j\n",
      " 0.9904129 -0.00722215j 0.99028025-0.00252423j 0.98608232-0.00034139j\n",
      " 0.99232671+0.001949j   0.99332824+0.00094948j 0.99175335+0.00131241j\n",
      " 0.99131097-0.00178382j 0.99172279-0.00028383j 0.989387  -0.00036067j\n",
      " 0.989387  +0.00036067j 0.99172279+0.00028383j 0.99131097+0.00178382j\n",
      " 0.99175335-0.00131241j 0.99332824-0.00094948j 0.99232671-0.001949j\n",
      " 0.98608232+0.00034139j 0.99028025+0.00252423j 0.9904129 +0.00722215j\n",
      " 0.98985703+0.00466749j 0.9910158 +0.0041549j  0.99128466+0.00189673j\n",
      " 0.99347909+0.00331384j 0.99378261+0.00617963j 0.99707883+0.0103844j\n",
      " 0.99547549+0.01037408j 1.00126776+0.01242077j 0.99957913+0.00647218j]\n"
     ]
    }
   ],
   "source": [
    "data_stddev_use = .2\n",
    "model_stddev_use = model_stddev_sim\n",
    "\n",
    "data_visibilities = data_vis_noisy[:, 0]\n",
    "\n",
    "#Added for testing\n",
    "baseline_cov_inv = np.diag(np.full(np.shape(baseline_cov_inv)[0], 1.))\n",
    "\n",
    "gains_fit, vis_fit = optimize_with_gradient_descent(\n",
    "    data_visibilities, model_sim_visibilities, \n",
    "    baseline_cov_inv, a_mat, gains_exp_mat_1, gains_exp_mat_2,\n",
    "    N_red_baselines, N_ants, data_stddev_use, model_stddev_use,\n",
    "    gains_init=None, fitted_visibilities_init=None\n",
    ")\n",
    "print(gains_fit)"
   ]
  },
  {
   "cell_type": "code",
   "execution_count": 238,
   "metadata": {},
   "outputs": [],
   "source": [
    "# Generate noisy data\n",
    "n_trials=3\n",
    "#n_trials=1\n",
    "data_stddev = .3\n",
    "#data_stddev = 0\n",
    "\n",
    "data_vis_noisy = np.zeros((N_vis, n_trials), dtype=np.complex_)\n",
    "for trial_ind in range(n_trials):\n",
    "    data_vis_noisy[:, trial_ind] = (\n",
    "        data_sim_expanded.data_array[:,0,0,0] \n",
    "        + np.random.normal(0, data_stddev, N_vis) \n",
    "        + 1j*np.random.normal(0, data_stddev, N_vis)\n",
    "    )"
   ]
  },
  {
   "cell_type": "code",
   "execution_count": null,
   "metadata": {},
   "outputs": [
    {
     "name": "stdout",
     "output_type": "stream",
     "text": [
      "***Version 1, Trial 1***\n",
      "***Version 1, Trial 2***\n",
      "***Version 1, Trial 3***\n",
      "***Version 2, Trial 1***\n"
     ]
    }
   ],
   "source": [
    "#model_stddev_sim = .4\n",
    "model_stddev_use_vals = [model_stddev_sim/1000000, model_stddev_sim, model_stddev_sim*1000000]\n",
    "#model_stddev_use_vals = [model_stddev_sim/1000, model_stddev_sim, model_stddev_sim*1000]\n",
    "data_stddev_use = data_stddev\n",
    "#data_stddev_use = .2\n",
    "\n",
    "gain_vals = np.zeros((N_ants, n_trials, len(model_stddev_use_vals)), dtype=np.complex_)\n",
    "vis_diff_vals = np.zeros((N_red_baselines, n_trials, len(model_stddev_use_vals)), dtype=np.complex_)\n",
    "\n",
    "for stddev_ind, model_stddev_use in enumerate(model_stddev_use_vals):\n",
    "\n",
    "    for trial in range(n_trials):\n",
    "        print('***Version {}, Trial {}***'.format(stddev_ind+1, trial+1))\n",
    "        data_visibilities = data_vis_noisy[:, trial]\n",
    "        \n",
    "        #Added for testing\n",
    "        baseline_cov_inv = np.diag(np.full(np.shape(baseline_cov_inv)[0], 1.))\n",
    "        data_sim_vis_no_noise_use = np.copy(data_sim_vis_no_noise)\n",
    "        #data_sim_vis_no_noise_use[0] += 1\n",
    "        \n",
    "        gains_fit, vis_fit = optimize_in_two_parts(\n",
    "            data_visibilities, model_sim_visibilities,\n",
    "            #data_sim_vis_no_noise_use, \n",
    "            baseline_cov_inv, a_mat, gains_exp_mat_1, gains_exp_mat_2,\n",
    "            N_red_baselines, N_ants, data_stddev_use, model_stddev_use,\n",
    "            gains_init=None, fitted_visibilities_init=None\n",
    "        )\n",
    "\n",
    "        gain_vals[:, trial, stddev_ind] = gains_fit-1\n",
    "        vis_fit_diff = vis_fit-data_sim_vis_no_noise\n",
    "        vis_diff_vals[:, trial, stddev_ind] = vis_fit_diff"
   ]
  },
  {
   "cell_type": "code",
   "execution_count": null,
   "metadata": {
    "scrolled": false
   },
   "outputs": [],
   "source": [
    "plot_range = .05\n",
    "nbins = 50\n",
    "bins = np.linspace(-plot_range, plot_range, num=nbins+1)\n",
    "colorbar_range = [0, .008]\n",
    "\n",
    "for data_set_ind in range(len(model_stddev_use_vals)):\n",
    "    \n",
    "    plot_data = gain_vals[:, :, data_set_ind]\n",
    "\n",
    "    hist, x_edges, y_edges = np.histogram2d(\n",
    "        np.real(plot_data).flatten(), np.imag(plot_data).flatten(), bins=bins\n",
    "    )\n",
    "    hist /= np.sum(hist)\n",
    "\n",
    "    kde, percent_plot = produce_kde(plot_data, bins, bins)\n",
    "\n",
    "    plt.figure(figsize=[7,5.5])\n",
    "    plt.imshow(\n",
    "        hist.T, interpolation='none', origin='lower',\n",
    "        extent=[x_edges[0], x_edges[-1], y_edges[0], y_edges[-1]],\n",
    "        vmin=colorbar_range[0], vmax=colorbar_range[1], aspect='equal',\n",
    "        cmap='inferno'\n",
    "    )\n",
    "    cbar = plt.colorbar()\n",
    "    cbar.ax.set_ylabel('Histogram Density', rotation=270, labelpad=20)\n",
    "    cont = plt.contour(bins, bins, percent_plot, levels=[.5,.9], colors='white', linestyles=['solid','dashed'], linewidths=1)\n",
    "    plt.scatter([0],[0],marker='P',color='white',edgecolors='black',s=150)\n",
    "    #plt.clabel(cont, inline=2, fontsize=10)\n",
    "    plt.xlabel('Frac. Gain Error, Real Part')\n",
    "    plt.ylabel('Frac. Gain Error, Imag. Part')\n",
    "    plt.title('Used Model Variance {}'.format(model_stddev_use_vals[data_set_ind]))\n",
    "    plt.tight_layout() # Ensure that axes labels don't get cut off\n",
    "    plt.show()"
   ]
  },
  {
   "cell_type": "code",
   "execution_count": null,
   "metadata": {},
   "outputs": [],
   "source": [
    "plot_range = .9\n",
    "nbins = 50\n",
    "bins = np.linspace(-plot_range, plot_range, num=nbins+1)\n",
    "colorbar_range = [0, .022]\n",
    "\n",
    "for data_set_ind in range(len(model_stddev_use_vals)):\n",
    "    \n",
    "    plot_data = vis_diff_vals[:, :, data_set_ind]\n",
    "\n",
    "    hist, x_edges, y_edges = np.histogram2d(\n",
    "        np.real(plot_data).flatten(), np.imag(plot_data).flatten(), bins=bins\n",
    "    )\n",
    "    hist /= np.sum(hist)\n",
    "\n",
    "    #kde, percent_plot = produce_kde(plot_data, bins, bins)\n",
    "\n",
    "    plt.figure(figsize=[7,5.5])\n",
    "    plt.imshow(\n",
    "        hist.T, interpolation='none', origin='lower',\n",
    "        extent=[x_edges[0], x_edges[-1], y_edges[0], y_edges[-1]],\n",
    "        vmin=colorbar_range[0], vmax=colorbar_range[1], aspect='equal',\n",
    "        cmap='inferno'\n",
    "    )\n",
    "    cbar = plt.colorbar()\n",
    "    cbar.ax.set_ylabel('Histogram Density', rotation=270, labelpad=20)\n",
    "    #cont = plt.contour(bins, bins, percent_plot, levels=[.5,.9], colors='white', linestyles=['solid','dashed'], linewidths=1)\n",
    "    plt.scatter([0],[0],marker='P',color='white',edgecolors='black',s=150)\n",
    "    #plt.clabel(cont, inline=2, fontsize=10)\n",
    "    plt.xlabel('Fit Vis. Error, Real Part (Jy)')\n",
    "    plt.ylabel('Fit Vis. Error, Imag. Part (Jy)')\n",
    "    plt.title('Used Model Variance {}'.format(model_stddev_use_vals[data_set_ind]))\n",
    "    plt.tight_layout() # Ensure that axes labels don't get cut off\n",
    "    plt.show()"
   ]
  },
  {
   "cell_type": "code",
   "execution_count": null,
   "metadata": {},
   "outputs": [],
   "source": []
  },
  {
   "cell_type": "code",
   "execution_count": 236,
   "metadata": {},
   "outputs": [
    {
     "name": "stdout",
     "output_type": "stream",
     "text": [
      "0.9915115109924169\n",
      "[28129179.94295381 16319396.33096085  7812804.35127654  2464045.40771734\n",
      "   133775.89009088   688404.31482284  3999840.88825914  9945258.85555549\n",
      " 18406867.03343949 29271692.95837395 42431376.11293075 57781970.72259144\n",
      " 75223757.64287539]\n"
     ]
    },
    {
     "data": {
      "image/png": "[encoded data removed]",
      "text/plain": [
       "<Figure size 432x288 with 1 Axes>"
      ]
     },
     "metadata": {
      "needs_background": "light"
     },
     "output_type": "display_data"
    },
    {
     "name": "stdout",
     "output_type": "stream",
     "text": [
      "0.9980838569502954\n",
      "[1576.5954404  1560.56456574 1547.96018742 1538.63297076 1532.43974054\n",
      " 1529.24321231 1528.91173632 1531.31905346 1536.34406271 1543.87059936\n",
      " 1553.78722355 1565.98701863 1580.36739872]\n"
     ]
    },
    {
     "data": {
      "image/png": "[encoded data removed]",
      "text/plain": [
       "<Figure size 432x288 with 1 Axes>"
      ]
     },
     "metadata": {
      "needs_background": "light"
     },
     "output_type": "display_data"
    },
    {
     "name": "stdout",
     "output_type": "stream",
     "text": [
      "0.9918646749191882\n",
      "[1435.1799857  1435.17996883 1435.1799554  1435.17994528 1435.17993831\n",
      " 1435.17993435 1435.17993328 1435.17993497 1435.1799393  1435.17994614\n",
      " 1435.17995539 1435.17996694 1435.17998069]\n"
     ]
    },
    {
     "data": {
      "image/png": "[encoded data removed]",
      "text/plain": [
       "<Figure size 432x288 with 1 Axes>"
      ]
     },
     "metadata": {
      "needs_background": "light"
     },
     "output_type": "display_data"
    }
   ],
   "source": [
    "plt.figure()\n",
    "for stddev_ind in range(3):\n",
    "    use_trial = 0\n",
    "    gains = gain_vals[:, use_trial, stddev_ind]+1\n",
    "    visibilities = vis_diff_vals[:, use_trial, stddev_ind] + data_sim_vis_no_noise\n",
    "    mean_gain_amp = np.mean(np.abs(gains))\n",
    "    print(mean_gain_amp)\n",
    "    use_gain_amps = np.arange(1.-.03, 1.+.03, .005)\n",
    "    cost_function_result = np.zeros(np.shape(use_gain_amps))\n",
    "    for ind, use_gain_amp in enumerate(use_gain_amps):\n",
    "        scaled_gains = gains*use_gain_amp/mean_gain_amp\n",
    "        scaled_visibilities = visibilities*(mean_gain_amp/use_gain_amp)**2.\n",
    "        #print(mean_gain_amp)\n",
    "        x_result = np.concatenate((\n",
    "            np.real(scaled_gains), np.imag(scaled_gains),\n",
    "            np.real(scaled_visibilities), np.imag(scaled_visibilities)\n",
    "        ))\n",
    "\n",
    "        cost_function_result[ind] = cost_function(\n",
    "            x_result, \n",
    "            N_red_baselines, N_ants, baseline_cov_inv, model_sim_visibilities, a_mat,\n",
    "            gains_exp_mat_1, gains_exp_mat_2, data_visibilities, data_stddev_use, model_stddev_use_vals[stddev_ind]\n",
    "        )\n",
    "    print(cost_function_result)\n",
    "    cost_function_result_scaled = (cost_function_result-np.min(cost_function_result))/(np.max(cost_function_result)-np.min(cost_function_result))\n",
    "    plt.plot(use_gain_amps, cost_function_result)\n",
    "    plt.plot([mean_gain_amp,mean_gain_amp], [np.min(cost_function_result),np.max(cost_function_result)])\n",
    "    plt.xlabel('Average Gain Amplitude')\n",
    "    plt.ylabel('Cost Function')\n",
    "    #plt.ylim([0,1])\n",
    "    plt.show()"
   ]
  },
  {
   "cell_type": "code",
   "execution_count": 29,
   "metadata": {},
   "outputs": [
    {
     "name": "stdout",
     "output_type": "stream",
     "text": [
      "[1.21871252e+14 8.33314620e+13 5.25169283e+13 2.90918852e+13\n",
      " 1.27344040e+13 3.13578830e+12 3.83884152e+03 3.04311076e+12\n",
      " 1.19927799e+13 2.65877567e+13 4.65774050e+13 7.17212511e+13\n",
      " 1.01788551e+14]\n"
     ]
    },
    {
     "data": {
      "image/png": "[encoded data removed]",
      "text/plain": [
       "<Figure size 432x288 with 1 Axes>"
      ]
     },
     "metadata": {
      "needs_background": "light"
     },
     "output_type": "display_data"
    },
    {
     "name": "stdout",
     "output_type": "stream",
     "text": [
      "[362.55074518 324.31054853 293.74011389 270.50607928 254.28882008\n",
      " 244.78184985 241.69124956 244.73512355 253.64308099 268.15574152\n",
      " 288.02426381 313.00989595 342.8835465 ]\n"
     ]
    },
    {
     "data": {
      "image/png": "[encoded data removed]",
      "text/plain": [
       "<Figure size 432x288 with 1 Axes>"
      ]
     },
     "metadata": {
      "needs_background": "light"
     },
     "output_type": "display_data"
    },
    {
     "name": "stdout",
     "output_type": "stream",
     "text": [
      "[4.49112751e-10 4.02323358e-10 3.63484190e-10 3.32252437e-10\n",
      " 3.08299378e-10 2.91309768e-10 2.80981249e-10 2.77023798e-10\n",
      " 2.79159194e-10 2.87120511e-10 3.00651633e-10 3.19506799e-10\n",
      " 3.43450158e-10]\n"
     ]
    },
    {
     "data": {
      "image/png": "[encoded data removed]",
      "text/plain": [
       "<Figure size 432x288 with 1 Axes>"
      ]
     },
     "metadata": {
      "needs_background": "light"
     },
     "output_type": "display_data"
    }
   ],
   "source": [
    "plt.figure()\n",
    "for stddev_ind in range(3):\n",
    "    use_trial = 0\n",
    "    gains = gain_vals[:, use_trial, stddev_ind]+1\n",
    "    visibilities = vis_diff_vals[:, use_trial, stddev_ind] + data_sim_vis_no_noise\n",
    "    use_gain_amps = np.arange(1.-.03, 1.+.03, .005)\n",
    "    cost_function_result = np.zeros(np.shape(use_gain_amps))\n",
    "    for ind, use_gain_amp in enumerate(use_gain_amps):\n",
    "        scaled_gains = gains*use_gain_amp\n",
    "        scaled_visibilities = visibilities/use_gain_amp**2.\n",
    "        #print(mean_gain_amp)\n",
    "        x_result = np.concatenate((\n",
    "            np.real(scaled_gains), np.imag(scaled_gains),\n",
    "            np.real(scaled_visibilities), np.imag(scaled_visibilities)\n",
    "        ))\n",
    "\n",
    "        cost_function_result[ind] = cost_function(\n",
    "            x_result, \n",
    "            N_red_baselines, N_ants, baseline_cov_inv, model_sim_visibilities, a_mat,\n",
    "            gains_exp_mat_1, gains_exp_mat_2, data_visibilities, data_stddev_use, model_stddev_use_vals[stddev_ind]\n",
    "        )\n",
    "    print(cost_function_result)\n",
    "    cost_function_result_scaled = (cost_function_result-np.min(cost_function_result))/(np.max(cost_function_result)-np.min(cost_function_result))\n",
    "    plt.plot(use_gain_amps, cost_function_result)\n",
    "    plt.plot([1,1], [np.min(cost_function_result),np.max(cost_function_result)])\n",
    "    plt.xlabel('Gain Amplitude Scaling Factor')\n",
    "    plt.ylabel('Cost Function')\n",
    "    #plt.ylim([0,1])\n",
    "    plt.show()"
   ]
  },
  {
   "cell_type": "code",
   "execution_count": 30,
   "metadata": {},
   "outputs": [
    {
     "name": "stdout",
     "output_type": "stream",
     "text": [
      "[3.01596083e+14 2.70704626e+14 2.47230014e+14 2.30847543e+14\n",
      " 2.21245923e+14 2.18126690e+14 2.21203650e+14 2.30202347e+14\n",
      " 2.44859556e+14 2.64922798e+14 2.90149885e+14 3.20308471e+14\n",
      " 3.55175642e+14]\n"
     ]
    },
    {
     "data": {
      "image/png": "[encoded data removed]",
      "text/plain": [
       "<Figure size 432x288 with 1 Axes>"
      ]
     },
     "metadata": {
      "needs_background": "light"
     },
     "output_type": "display_data"
    },
    {
     "name": "stdout",
     "output_type": "stream",
     "text": [
      "[325.16065379 294.2691962  270.7945842  254.41211364 244.81049356\n",
      " 241.69126052 244.76822058 253.76691758 268.42412624 288.48736896\n",
      " 313.71445505 343.87304129 378.7402127 ]\n"
     ]
    },
    {
     "data": {
      "image/png": "[encoded data removed]",
      "text/plain": [
       "<Figure size 432x288 with 1 Axes>"
      ]
     },
     "metadata": {
      "needs_background": "light"
     },
     "output_type": "display_data"
    },
    {
     "name": "stdout",
     "output_type": "stream",
     "text": [
      "[23.56457052 23.56457052 23.56457052 23.56457052 23.56457052 23.56457052\n",
      " 23.56457052 23.56457052 23.56457052 23.56457052 23.56457052 23.56457052\n",
      " 23.56457052]\n"
     ]
    },
    {
     "data": {
      "image/png": "[encoded data removed]",
      "text/plain": [
       "<Figure size 432x288 with 1 Axes>"
      ]
     },
     "metadata": {
      "needs_background": "light"
     },
     "output_type": "display_data"
    }
   ],
   "source": [
    "for stddev_ind in range(3):\n",
    "    use_trial = 0\n",
    "    gains = gain_vals[:, use_trial, 1]+1\n",
    "    visibilities = vis_diff_vals[:, use_trial, 1] + data_sim_vis_no_noise\n",
    "    mean_gain_amp = np.mean(np.abs(gains))\n",
    "    use_gain_amps = np.arange(1.-.03, 1.+.03, .005)\n",
    "    cost_function_result = np.zeros(np.shape(use_gain_amps))\n",
    "    for ind, use_gain_amp in enumerate(use_gain_amps):\n",
    "        scaled_gains = gains*use_gain_amp/mean_gain_amp\n",
    "        scaled_visibilities = visibilities*(mean_gain_amp/use_gain_amp)**2.\n",
    "        #print(mean_gain_amp)\n",
    "        x_result = np.concatenate((\n",
    "            np.real(scaled_gains), np.imag(scaled_gains),\n",
    "            np.real(scaled_visibilities), np.imag(scaled_visibilities)\n",
    "        ))\n",
    "\n",
    "        cost_function_result[ind] = cost_function(\n",
    "            x_result, \n",
    "            N_red_baselines, N_ants, baseline_cov_inv, model_sim_visibilities, a_mat,\n",
    "            gains_exp_mat_1, gains_exp_mat_2, data_visibilities, data_stddev_use, model_stddev_use_vals[stddev_ind]\n",
    "        )\n",
    "    print(cost_function_result)\n",
    "    #cost_function_result_scaled = (cost_function_result-np.min(cost_function_result))/(np.max(cost_function_result)-np.min(cost_function_result))\n",
    "    plt.plot(use_gain_amps, cost_function_result)\n",
    "    #plt.plot([mean_gain_amp,mean_gain_amp], [0,1])\n",
    "    plt.xlabel('Average Gain Amplitude')\n",
    "    plt.ylabel('Cost Function')\n",
    "    #plt.ylim([0,1])\n",
    "    plt.show()"
   ]
  },
  {
   "cell_type": "code",
   "execution_count": 31,
   "metadata": {},
   "outputs": [
    {
     "name": "stdout",
     "output_type": "stream",
     "text": [
      "1.7862549272637343e-17\n",
      "1.1976844780733216e-10\n"
     ]
    }
   ],
   "source": [
    "stddev_ind = 2\n",
    "gains = gain_vals[:, 0, stddev_ind]+1\n",
    "visibilities = vis_diff_vals[:, 0, stddev_ind] + data_sim_vis_no_noise\n",
    "gains*=1.01\n",
    "visibilities/=1.01**2\n",
    "\n",
    "fitted_visibilities_expanded = np.matmul(a_mat, visibilities)\n",
    "gains_expanded = np.matmul(gains_exp_mat_1, gains)*np.matmul(gains_exp_mat_2, np.conj(gains))\n",
    "prob = np.sum(np.abs(data_visibilities - gains_expanded*fitted_visibilities_expanded)**2)\n",
    "print(prob/data_stddev_use**2)\n",
    "\n",
    "vis_diff = visibilities-model_sim_visibilities\n",
    "prior = np.abs(np.dot(np.matmul(np.conj(vis_diff), baseline_cov_inv), vis_diff))\n",
    "print(prior/model_stddev_use_vals[stddev_ind]**2)"
   ]
  },
  {
   "cell_type": "code",
   "execution_count": 32,
   "metadata": {},
   "outputs": [
    {
     "data": {
      "image/png": "[encoded data removed]",
      "text/plain": [
       "<Figure size 432x288 with 1 Axes>"
      ]
     },
     "metadata": {
      "needs_background": "light"
     },
     "output_type": "display_data"
    }
   ],
   "source": [
    "bins = np.linspace(-.03, .03, num=100)\n",
    "plt.hist(np.imag(gain_vals[:, :, 2]).flatten(), bins=bins)\n",
    "#plt.xlabel('Visibility Difference, Imaginary Part')\n",
    "plt.ylabel('Histogram Count')\n",
    "plt.xlim(-.03, .03)\n",
    "plt.show()"
   ]
  },
  {
   "cell_type": "code",
   "execution_count": 33,
   "metadata": {},
   "outputs": [
    {
     "name": "stdout",
     "output_type": "stream",
     "text": [
      "[-0.00899682 -0.00891526 -0.00883369 -0.00875213 -0.00867057 -0.008589\n",
      " -0.00547971 -0.00539814 -0.00531658 -0.00523501 -0.00515344 -0.00507188\n",
      " -0.00196252 -0.00188096 -0.00179939 -0.00171782 -0.00163625 -0.00155469\n",
      "  0.00155469  0.00163625  0.00171782  0.00179939  0.00188096  0.00196252\n",
      "  0.00507188  0.00515344  0.00523501  0.00531658  0.00539814  0.00547971\n",
      "  0.008589    0.00867057  0.00875213  0.00883369  0.00891526  0.00899682]\n"
     ]
    },
    {
     "name": "stderr",
     "output_type": "stream",
     "text": [
      "Adding an axes using the same arguments as a previous axes currently reuses the earlier instance.  In a future version, a new instance will always be created and returned.  Meanwhile, this warning can be suppressed, and the future behavior ensured, by passing a unique label to each axes instance.\n"
     ]
    },
    {
     "data": {
      "image/png": "[encoded data removed]",
      "text/plain": [
       "<Figure size 432x288 with 2 Axes>"
      ]
     },
     "metadata": {
      "needs_background": "light"
     },
     "output_type": "display_data"
    }
   ],
   "source": [
    "colors = np.imag(np.mean(gain_vals[:, :, 2], axis=1))\n",
    "print(colors)\n",
    "plt.scatter(data_sim_expanded.antenna_positions[:,0], data_sim_expanded.antenna_positions[:,1], c=colors)\n",
    "cbar = plt.colorbar()\n",
    "cbar.ax.set_ylabel('Gain Imaginary Value', rotation=270, labelpad=20)\n",
    "plt.axes().set_aspect('equal')"
   ]
  },
  {
   "cell_type": "code",
   "execution_count": null,
   "metadata": {},
   "outputs": [],
   "source": []
  },
  {
   "cell_type": "code",
   "execution_count": null,
   "metadata": {},
   "outputs": [],
   "source": []
  },
  {
   "cell_type": "code",
   "execution_count": null,
   "metadata": {},
   "outputs": [],
   "source": []
  }
 ],
 "metadata": {
  "kernelspec": {
   "display_name": "Python 3",
   "language": "python",
   "name": "python3"
  },
  "language_info": {
   "codemirror_mode": {
    "name": "ipython",
    "version": 3
   },
   "file_extension": ".py",
   "mimetype": "text/x-python",
   "name": "python",
   "nbconvert_exporter": "python",
   "pygments_lexer": "ipython3",
   "version": "3.7.3"
  }
 },
 "nbformat": 4,
 "nbformat_minor": 4
}
