{
 "cells": [
  {
   "cell_type": "code",
   "execution_count": 1,
   "id": "34b39fbf",
   "metadata": {},
   "outputs": [],
   "source": [
    "import numpy as np\n",
    "from scipy import special\n",
    "import matplotlib\n",
    "import matplotlib.pyplot as plt"
   ]
  },
  {
   "cell_type": "code",
   "execution_count": 2,
   "id": "8db3347e",
   "metadata": {},
   "outputs": [],
   "source": [
    "# Define constants\n",
    "start_freq_mhz=167.\n",
    "end_freq_mhz=198.\n",
    "c = 3.e8"
   ]
  },
  {
   "cell_type": "code",
   "execution_count": 3,
   "id": "aa25510c",
   "metadata": {},
   "outputs": [],
   "source": [
    "def calculate_depolarization(rm):\n",
    "    wl_max = c/(start_freq_mhz*1.e6)\n",
    "    wl_min = c/(end_freq_mhz*1.e6)\n",
    "    fresS_min, fresC_min = special.fresnel(2*np.sqrt(rm/np.pi+0j)*wl_min)\n",
    "    fresS_max, fresC_max = special.fresnel(2*np.sqrt(rm/np.pi+0j)*wl_max)\n",
    "    cos_int = np.real(\n",
    "        np.cos(2.*rm*wl_min**2.)/wl_min\n",
    "        - np.cos(2.*rm*wl_max**2.)/wl_max\n",
    "        + 2*np.sqrt(np.pi*rm+0j)*(fresS_min-fresS_max)\n",
    "    )\n",
    "    sin_int = np.real(\n",
    "        np.sin(2.*rm*wl_min**2.)/wl_min\n",
    "        - np.sin(2.*rm*wl_max**2.)/wl_max\n",
    "        - 2*np.sqrt(np.pi*rm+0j)*(fresC_min-fresC_max)\n",
    "    )\n",
    "    eff_rot_angle = np.arctan2(sin_int, cos_int)\n",
    "    const = (1/wl_min - 1/wl_max)/np.sqrt(cos_int**2 + sin_int**2)\n",
    "    return 100.*(1.-1./const)"
   ]
  },
  {
   "cell_type": "code",
   "execution_count": 25,
   "id": "39bb5066",
   "metadata": {},
   "outputs": [],
   "source": [
    "plot_rms = np.linspace(0, 10, num=200, endpoint=True)\n",
    "depol_vals = np.zeros(len(plot_rms))\n",
    "for rm_ind, rm in enumerate(plot_rms):\n",
    "    depol_vals[rm_ind] = calculate_depolarization(rm)"
   ]
  },
  {
   "cell_type": "code",
   "execution_count": 5,
   "id": "13a1538a",
   "metadata": {},
   "outputs": [
    {
     "name": "stdout",
     "output_type": "stream",
     "text": [
      "[ 0.          0.5967396   2.3738788   5.29250128  9.28880933 14.27567581\n",
      " 20.14472979 26.76888013 34.00513529 41.69749716 49.67954251 57.77591145\n",
      " 65.80084934 73.54860276 80.75839046 86.98735181 91.17366379 91.50482569\n",
      " 88.77127    85.37702153 82.33728144 79.97094339 78.3829674  77.59465616\n",
      " 77.5827699  78.29438393 79.65413631 81.56852997 83.92838301 86.60858235\n",
      " 89.46094365 92.28434476 94.70928369 95.88780814 95.08325206 93.24391152\n",
      " 91.28864159 89.5599393  88.19420803 87.25482263 86.76856973 86.73758804\n",
      " 87.14440397 87.95471537 89.11917719 90.57413541 92.23989406 94.01130577\n",
      " 95.72043485 96.99862385]\n"
     ]
    }
   ],
   "source": [
    "print(depol_vals)"
   ]
  },
  {
   "cell_type": "code",
   "execution_count": 32,
   "id": "5a85c4b2",
   "metadata": {},
   "outputs": [
    {
     "data": {
      "image/png": "[encoded data removed]",
      "text/plain": [
       "<Figure size 432x288 with 1 Axes>"
      ]
     },
     "metadata": {
      "needs_background": "light"
     },
     "output_type": "display_data"
    }
   ],
   "source": [
    "plt.plot(plot_rms, depol_vals, '-')\n",
    "plt.xlim((0,10))\n",
    "plt.ylim((0,100))\n",
    "plt.xlabel('RM Magnitude (rad/m$^2$)')\n",
    "plt.ylabel('Depolarization Signal Loss (%)')\n",
    "plt.savefig('/Users/ruby/Documents/Diffuse Paper Response #3/depolarization.png', dpi=400)"
   ]
  },
  {
   "cell_type": "code",
   "execution_count": 30,
   "id": "a3f13de6",
   "metadata": {},
   "outputs": [
    {
     "data": {
      "text/plain": [
       "48.0682491242193"
      ]
     },
     "execution_count": 30,
     "metadata": {},
     "output_type": "execute_result"
    }
   ],
   "source": [
    "calculate_depolarization(2.)"
   ]
  },
  {
   "cell_type": "code",
   "execution_count": null,
   "id": "d987fd8b",
   "metadata": {},
   "outputs": [],
   "source": []
  }
 ],
 "metadata": {
  "kernelspec": {
   "display_name": "Python 3",
   "language": "python",
   "name": "python3"
  },
  "language_info": {
   "codemirror_mode": {
    "name": "ipython",
    "version": 3
   },
   "file_extension": ".py",
   "mimetype": "text/x-python",
   "name": "python",
   "nbconvert_exporter": "python",
   "pygments_lexer": "ipython3",
   "version": "3.8.8"
  }
 },
 "nbformat": 4,
 "nbformat_minor": 5
}
