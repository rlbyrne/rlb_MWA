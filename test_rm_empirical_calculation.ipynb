{
 "cells": [
  {
   "cell_type": "code",
   "execution_count": 1,
   "metadata": {},
   "outputs": [],
   "source": [
    "import matplotlib.pyplot as plt\n",
    "import matplotlib.image as mpimg\n",
    "import sys\n",
    "import numpy as np\n",
    "sys.path.append('/Users/rubybyrne/rlb_MWA/sky_imaging')\n",
    "import plot_fits\n",
    "import plot_healpix_map\n",
    "import healpix_utils\n",
    "import scipy.io"
   ]
  },
  {
   "cell_type": "code",
   "execution_count": 2,
   "metadata": {},
   "outputs": [],
   "source": [
    "obs_list_1 = [\n",
    "    '1131551744',\n",
    "    '1130783824',\n",
    "    '1131562544',\n",
    "    '1131709912',\n",
    "    '1130776864',\n",
    "    '1131461496',\n",
    "    '1130782264',\n",
    "    #'1131454176', high power and systematics in Stokes V\n",
    "    '1131715432',\n",
    "    '1131733552',\n",
    "    '1131542624',\n",
    "    '1130773144',\n",
    "    '1131461376',\n",
    "    '1131557144',\n",
    "    '1131454296',\n",
    "    '1131731752',\n",
    "    '1130778664',\n",
    "    '1131470496',\n",
    "    '1131559064',\n",
    "    '1131717232',\n",
    "    '1131463536',\n",
    "    '1130773264',\n",
    "    '1131463416',\n",
    "    '1131717352',\n",
    "    '1131713632',\n",
    "    '1131478056',\n",
    "    '1131468936',\n",
    "    '1131468696',\n",
    "    '1131535424',\n",
    "    '1131463296',\n",
    "    '1131465216',\n",
    "    '1131710032',\n",
    "    '1130776624',\n",
    "    '1131456096',\n",
    "    #'1131456216',\n",
    "    '1131540824',\n",
    "    '1131711952',\n",
    "    '1131459576',\n",
    "    '1131477936',\n",
    "    '1131733672',\n",
    "    '1131564464',\n",
    "    '1130787784',\n",
    "    #'1131475896',\n",
    "    '1131461616',\n",
    "    '1131558944',\n",
    "    '1131470616',\n",
    "    '1131549944',\n",
    "    '1131553544',\n",
    "    #'1131477816',\n",
    "    '1131459696',\n",
    "    '1130780464',\n",
    "    '1131726352',\n",
    "    #'1131715312',\n",
    "    '1131470736',\n",
    "    '1131548024',\n",
    "    '1131710152',\n",
    "    '1130785864',\n",
    "    #'1131724672',\n",
    "    '1131544424'\n",
    "]\n",
    "obs_list_2 = ['1131542504',\n",
    "    #'1131717112',\n",
    "    '1131733432',\n",
    "    '1131735232',\n",
    "    '1131553664',\n",
    "    '1131724432',\n",
    "    '1131542744',\n",
    "    '1131455976',\n",
    "    '1131719152',\n",
    "    '1131454416',\n",
    "    #'1131728032',\n",
    "    '1130787544',\n",
    "    '1130776744',\n",
    "    #'1131726472',\n",
    "    '1130780224',\n",
    "    '1131551624',\n",
    "    '1131722632',\n",
    "    '1131547904',\n",
    "    '1130776624',\n",
    "    '1131562664',\n",
    "    '1131550064',\n",
    "    '1131537104',\n",
    "    '1131555224',\n",
    "    '1131467136',\n",
    "    '1131539024',\n",
    "    '1131555344',\n",
    "    '1131546104',\n",
    "    '1131548144',\n",
    "    '1131472416',\n",
    "    '1131558824',\n",
    "    '1131544304',\n",
    "    '1130789584',\n",
    "    '1131476136',\n",
    "    '1130789344',\n",
    "    #'1131728272',\n",
    "    '1131722872',\n",
    "    '1130785744',\n",
    "    '1131730072',\n",
    "    '1131459816',\n",
    "    '1131564584',\n",
    "    '1131457776',\n",
    "    '1131724552',\n",
    "    '1130787664',\n",
    "    '1130778424',\n",
    "    '1131728152',\n",
    "    '1131722752',\n",
    "    '1131538904',\n",
    "    '1131544544',\n",
    "    '1130778544',\n",
    "    '1131467016',\n",
    "    '1131546344',\n",
    "    '1130789464',\n",
    "    '1131713512',\n",
    "    '1131546224',\n",
    "    '1131474336',\n",
    "    '1130782144',\n",
    "    '1131735472',\n",
    "    '1130775064',\n",
    "    '1130774824',\n",
    "    '1131720832',\n",
    "    '1130774944',\n",
    "    '1131557264',\n",
    "    '1130783944',\n",
    "    #'1131713752',\n",
    "    '1131472296',\n",
    "    '1131465096',\n",
    "    '1131457896',\n",
    "    '1131555464',\n",
    "    #'1131720712',\n",
    "    #'1131711832',\n",
    "    '1131562424',\n",
    "    '1131551864',\n",
    "    '1131540704',\n",
    "    '1130780344',\n",
    "    '1131731632',\n",
    "    '1131468816',\n",
    "    #'1131711712',\n",
    "    '1131472536',\n",
    "    #'1131729832',\n",
    "    '1130773024',\n",
    "    #'1131720952',\n",
    "    #'1131718912',\n",
    "    #'1131719032',\n",
    "    '1131474096',\n",
    "    '1131465336',\n",
    "    '1131715552',\n",
    "    '1131458016',\n",
    "    '1131540944',\n",
    "    '1131557024',\n",
    "    '1131731872',\n",
    "    '1131553424',\n",
    "    '1131560864',\n",
    "    '1130784064',\n",
    "    '1131466896',\n",
    "    '1130782024',\n",
    "    '1131560624',\n",
    "    '1131474216',\n",
    "    '1131564344',\n",
    "    '1131729952',\n",
    "    '1131560744',\n",
    "    '1130785624',\n",
    "    '1131709432',\n",
    "    '1131536624',\n",
    "    '1131536384',\n",
    "    '1131711112',\n",
    "    '1131709192',\n",
    "    '1131710992',\n",
    "    #'1131709792', stripes in V\n",
    "    '1131453456',\n",
    "    '1131565304',\n",
    "    '1131478776',\n",
    "    '1131566504',\n",
    "    '1131565184',\n",
    "    '1131566624',\n",
    "    '1131566744',\n",
    "    '1131565064',\n",
    "    '1131567944',\n",
    "    '1131478656',\n",
    "    '1131568544',\n",
    "    #'1131740872', excess power\n",
    "    '1131739432',\n",
    "    '1130788504',\n",
    "    '1130788264',\n",
    "    '1131740752',\n",
    "    #'1131735952', # maybe excess power\n",
    "    #'1131739552', excess power\n",
    "    '1131455736',\n",
    "    '1131710392',\n",
    "    '1131708952',\n",
    "    '1131457176',\n",
    "    '1131716512',\n",
    "    #'1131713272', excess power\n",
    "    '1131458976',\n",
    "    '1131712192',\n",
    "    '1131453936',\n",
    "    '1131457536',\n",
    "    '1131537704',\n",
    "    '1131543584'\n",
    "]\n",
    "c = 3.e8"
   ]
  },
  {
   "cell_type": "code",
   "execution_count": 32,
   "metadata": {},
   "outputs": [],
   "source": [
    "def get_effective_rotation_angles(rms, start_freq_mhz, end_freq_mhz):\n",
    "\n",
    "    wl_max = c/(start_freq_mhz*1.e6)\n",
    "    wl_min = c/(end_freq_mhz*1.e6)\n",
    "    fresS_min, fresC_min = scipy.special.fresnel(2*np.sqrt(rms/np.pi+0j)*wl_min)\n",
    "    fresS_max, fresC_max = scipy.special.fresnel(2*np.sqrt(rms/np.pi+0j)*wl_max)\n",
    "    cos_int = (\n",
    "        np.cos(2.*rms*wl_min**2.)/wl_min\n",
    "        - np.cos(2.*rms*wl_max**2.)/wl_max\n",
    "        + 2*np.sqrt(np.pi*rms+0j)*(fresS_min-fresS_max)\n",
    "    )\n",
    "    sin_int = (\n",
    "        np.sin(2.*rms*wl_min**2.)/wl_min\n",
    "        - np.sin(2.*rms*wl_max**2.)/wl_max\n",
    "        - 2*np.sqrt(np.pi*rms+0j)*(fresC_min-fresC_max)\n",
    "    )\n",
    "    rot_angles = np.arctan2(np.real(sin_int), np.real(cos_int))\n",
    "    return rot_angles\n",
    "\n",
    "\n",
    "def create_rm_lookup_table(start_freq_mhz, end_freq_mhz):\n",
    "\n",
    "    min_rm = -4\n",
    "    max_rm = 0\n",
    "    stepsize = 1e-6\n",
    "    rms = np.arange(min_rm, max_rm, stepsize)\n",
    "    rot_angles = get_effective_rotation_angles(rms, start_freq_mhz, end_freq_mhz)\n",
    "    return rot_angles, rms\n"
   ]
  },
  {
   "cell_type": "code",
   "execution_count": 13,
   "metadata": {},
   "outputs": [],
   "source": [
    "rm_file='/Users/rubybyrne/diffuse_survey_rm_tot.csv'\n",
    "start_freq_mhz=167.\n",
    "end_freq_mhz=198."
   ]
  },
  {
   "cell_type": "code",
   "execution_count": 33,
   "metadata": {},
   "outputs": [],
   "source": [
    "rot_angles_lookup, rms_lookup = create_rm_lookup_table(\n",
    "    start_freq_mhz, end_freq_mhz\n",
    ")"
   ]
  },
  {
   "cell_type": "code",
   "execution_count": 34,
   "metadata": {},
   "outputs": [],
   "source": [
    "# Get RMs\n",
    "rm_data = np.genfromtxt(\n",
    "    rm_file, delimiter=',', dtype=None, names=True, encoding=None\n",
    ")\n",
    "rms_orig = np.array([\n",
    "    rm_data['RM'][np.where(rm_data['ObsID'] == int(obsid))][0] for obsid in obs_list_1+obs_list_2\n",
    "])\n",
    "rot_angles = get_effective_rotation_angles(\n",
    "    rms_orig, start_freq_mhz, end_freq_mhz\n",
    ")"
   ]
  },
  {
   "cell_type": "code",
   "execution_count": 25,
   "metadata": {},
   "outputs": [
    {
     "name": "stdout",
     "output_type": "stream",
     "text": [
      "0.581303723992\n",
      "0\n"
     ]
    },
    {
     "data": {
      "image/png": "[encoded data removed]",
      "text/plain": [
       "<matplotlib.figure.Figure at 0x181a7d2f10>"
      ]
     },
     "metadata": {},
     "output_type": "display_data"
    },
    {
     "data": {
      "image/png": "[encoded data removed]",
      "text/plain": [
       "<matplotlib.figure.Figure at 0x1072bd3d0>"
      ]
     },
     "metadata": {},
     "output_type": "display_data"
    },
    {
     "data": {
      "image/png": "[encoded data removed]",
      "text/plain": [
       "<matplotlib.figure.Figure at 0x18190ae150>"
      ]
     },
     "metadata": {},
     "output_type": "display_data"
    },
    {
     "name": "stdout",
     "output_type": "stream",
     "text": [
      "5.25864766479162e-14\n"
     ]
    }
   ],
   "source": [
    "search_range = np.pi*((start_freq_mhz+end_freq_mhz)/2*1.e6)**2/(2*c**2)\n",
    "print search_range\n",
    "for obsind in range(1):\n",
    "    print obsind\n",
    "    limited_lookup_indices = np.where(\n",
    "        np.abs(rms_lookup-rms_orig[obsind]) < search_range/2\n",
    "    )[0]\n",
    "    plt.scatter(rms_lookup[limited_lookup_indices], rot_angles_lookup[limited_lookup_indices])\n",
    "    plt.show()\n",
    "    plt.scatter(rms_lookup[limited_lookup_indices], np.arctan(np.tan(2*rms_lookup[limited_lookup_indices]*c**2/(start_freq_mhz*1.e6)**2)))\n",
    "    plt.show()\n",
    "    plt.scatter(rms_lookup[limited_lookup_indices], np.arctan(np.tan(2*rms_lookup[limited_lookup_indices]*c**2/(end_freq_mhz*1.e6)**2)))\n",
    "    plt.show()\n",
    "    interp_func = scipy.interpolate.interp1d(\n",
    "        rot_angles_lookup[limited_lookup_indices],\n",
    "        rms_lookup[limited_lookup_indices],\n",
    "        kind='cubic', bounds_error=True\n",
    "    )\n",
    "    interp_rm_val = interp_func(rot_angles[obsind])\n",
    "    print np.abs((interp_rm_val-rms_orig[obsind])/rms_orig[obsind])"
   ]
  },
  {
   "cell_type": "code",
   "execution_count": 35,
   "metadata": {},
   "outputs": [
    {
     "data": {
      "image/png": "[encoded data removed]",
      "text/plain": [
       "<matplotlib.figure.Figure at 0x18167d2c50>"
      ]
     },
     "metadata": {},
     "output_type": "display_data"
    }
   ],
   "source": [
    "plt.scatter(rms_lookup, rot_angles_lookup)\n",
    "plt.show()"
   ]
  },
  {
   "cell_type": "code",
   "execution_count": 37,
   "metadata": {},
   "outputs": [
    {
     "data": {
      "image/png": "[encoded data removed]",
      "text/plain": [
       "<matplotlib.figure.Figure at 0x181b204350>"
      ]
     },
     "metadata": {},
     "output_type": "display_data"
    }
   ],
   "source": [
    "search_range = np.pi*((start_freq_mhz+end_freq_mhz)/2*1.e6)**2/(2*c**2)\n",
    "\n",
    "rms_orig_use = -1.712824\n",
    "limited_lookup_indices = np.where(\n",
    "    np.abs(rms_lookup-rms_orig_use) < search_range/2\n",
    ")[0]\n",
    "plt.scatter(rms_lookup[limited_lookup_indices], rot_angles_lookup[limited_lookup_indices])\n",
    "plt.show()"
   ]
  },
  {
   "cell_type": "code",
   "execution_count": 21,
   "metadata": {},
   "outputs": [
    {
     "name": "stdout",
     "output_type": "stream",
     "text": [
      "1.16260744798\n"
     ]
    }
   ],
   "source": [
    "print search_range/2"
   ]
  },
  {
   "cell_type": "code",
   "execution_count": 22,
   "metadata": {},
   "outputs": [
    {
     "data": {
      "text/plain": [
       "0.37006944444444445"
      ]
     },
     "execution_count": 22,
     "metadata": {},
     "output_type": "execute_result"
    }
   ],
   "source": [
    "((start_freq_mhz+end_freq_mhz)/2*1.e6)**2/c**2"
   ]
  },
  {
   "cell_type": "code",
   "execution_count": 38,
   "metadata": {},
   "outputs": [],
   "source": [
    "# Get RMs\n",
    "rm_data = np.genfromtxt(\n",
    "    rm_file, delimiter=',', dtype=None, names=True, encoding=None\n",
    ")\n",
    "rms_orig = np.array([\n",
    "    rm_data['RM'][np.where(rm_data['ObsID'] == int(obsid))][0] for obsid in obs_list_1+obs_list_2\n",
    "])\n",
    "rot_angles_orig = get_effective_rotation_angles(\n",
    "    rms_orig, start_freq_mhz, end_freq_mhz\n",
    ")"
   ]
  },
  {
   "cell_type": "code",
   "execution_count": 56,
   "metadata": {},
   "outputs": [],
   "source": [
    "# Get New RMs\n",
    "rm_data_new = np.genfromtxt(\n",
    "    '/Users/rubybyrne/diffuse_survey_rm_empirical.csv', delimiter=',', dtype=None, names=True, encoding=None\n",
    ")\n",
    "rms_new = np.array([\n",
    "    rm_data_new['RM'][np.where(rm_data_new['ObsID'] == int(obsid))][0] for obsid in obs_list_1+obs_list_2\n",
    "])\n",
    "rot_angles_new = get_effective_rotation_angles(\n",
    "    rms_new, start_freq_mhz, end_freq_mhz\n",
    ")"
   ]
  },
  {
   "cell_type": "code",
   "execution_count": 78,
   "metadata": {},
   "outputs": [
    {
     "data": {
      "image/png": "[encoded data removed]",
      "text/plain": [
       "<matplotlib.figure.Figure at 0x1816d01c50>"
      ]
     },
     "metadata": {},
     "output_type": "display_data"
    }
   ],
   "source": [
    "plt.hist(rms_orig, bins=20)\n",
    "plt.xlabel('RM Value')\n",
    "plt.ylabel('Histogram Count')\n",
    "plt.title('Original RMs')\n",
    "plt.savefig('/Users/rubybyrne/Downloads/orig_rms.png')"
   ]
  },
  {
   "cell_type": "code",
   "execution_count": 79,
   "metadata": {},
   "outputs": [
    {
     "data": {
      "image/png": "[encoded data removed]",
      "text/plain": [
       "<matplotlib.figure.Figure at 0x1816db1710>"
      ]
     },
     "metadata": {},
     "output_type": "display_data"
    }
   ],
   "source": [
    "#plot_range = [-3,0]\n",
    "#nbins = 20\n",
    "#bins = np.linspace(plot_range[0], plot_range[1], num=nbins+1)\n",
    "\n",
    "plt.hist(rms_new-rms_orig, bins=20)\n",
    "plt.xlabel('RM Difference')\n",
    "plt.ylabel('Histogram Count')\n",
    "plt.title('New RM - Old RM')\n",
    "plt.savefig('/Users/rubybyrne/Downloads/rms_diff.png')\n",
    "plt.show()"
   ]
  },
  {
   "cell_type": "code",
   "execution_count": 80,
   "metadata": {},
   "outputs": [
    {
     "data": {
      "image/png": "[encoded data removed]",
      "text/plain": [
       "<matplotlib.figure.Figure at 0x181a826190>"
      ]
     },
     "metadata": {},
     "output_type": "display_data"
    }
   ],
   "source": [
    "#plot_range = [-3,0]\n",
    "#nbins = 20\n",
    "#bins = np.linspace(plot_range[0], plot_range[1], num=nbins+1)\n",
    "\n",
    "plt.hist(np.abs((rms_new-rms_orig)/rms_orig), bins=20)\n",
    "plt.xlabel('RM Difference')\n",
    "plt.ylabel('Histogram Count')\n",
    "plt.title('Fractional RM Difference')\n",
    "plt.savefig('/Users/rubybyrne/Downloads/rms_frac_diff.png')\n",
    "plt.show()"
   ]
  },
  {
   "cell_type": "code",
   "execution_count": 81,
   "metadata": {},
   "outputs": [
    {
     "data": {
      "image/png": "[encoded data removed]",
      "text/plain": [
       "<matplotlib.figure.Figure at 0x1072f6410>"
      ]
     },
     "metadata": {},
     "output_type": "display_data"
    }
   ],
   "source": [
    "plt.hist(rot_angles_orig, bins=20)\n",
    "plt.xlabel('Rotation Angle')\n",
    "plt.ylabel('Histogram Count')\n",
    "plt.title('Original Rotation Angles')\n",
    "plt.savefig('/Users/rubybyrne/Downloads/rot_angle.png')\n",
    "plt.show()"
   ]
  },
  {
   "cell_type": "code",
   "execution_count": 68,
   "metadata": {},
   "outputs": [
    {
     "data": {
      "image/png": "[encoded data removed]",
      "text/plain": [
       "<matplotlib.figure.Figure at 0x18190da7d0>"
      ]
     },
     "metadata": {},
     "output_type": "display_data"
    }
   ],
   "source": [
    "plt.hist(rot_angles_new-rot_angles_orig, bins=20)\n",
    "plt.xlabel('Rotation Angle')\n",
    "plt.ylabel('Histogram Count')\n",
    "plt.title('New - Old Rotation Angles')\n",
    "plt.show()"
   ]
  },
  {
   "cell_type": "code",
   "execution_count": 82,
   "metadata": {},
   "outputs": [
    {
     "data": {
      "image/png": "[encoded data removed]",
      "text/plain": [
       "<matplotlib.figure.Figure at 0x1816a00a10>"
      ]
     },
     "metadata": {},
     "output_type": "display_data"
    }
   ],
   "source": [
    "hist_vals = rot_angles_new-rot_angles_orig\n",
    "hist_vals[np.where(hist_vals > np.pi)] -= 2*np.pi\n",
    "hist_vals[np.where(hist_vals < -np.pi)] += 2*np.pi\n",
    "plt.hist(hist_vals, bins=20)\n",
    "plt.xlabel('Rotation Angle')\n",
    "plt.ylabel('Histogram Count')\n",
    "plt.title('New - Old Rotation Angles')\n",
    "plt.savefig('/Users/rubybyrne/Downloads/rot_angle_diff.png')\n",
    "plt.show()"
   ]
  },
  {
   "cell_type": "code",
   "execution_count": null,
   "metadata": {},
   "outputs": [],
   "source": []
  }
 ],
 "metadata": {
  "kernelspec": {
   "display_name": "Python 2",
   "language": "python",
   "name": "python2"
  },
  "language_info": {
   "codemirror_mode": {
    "name": "ipython",
    "version": 2
   },
   "file_extension": ".py",
   "mimetype": "text/x-python",
   "name": "python",
   "nbconvert_exporter": "python",
   "pygments_lexer": "ipython2",
   "version": "2.7.14"
  }
 },
 "nbformat": 4,
 "nbformat_minor": 2
}
