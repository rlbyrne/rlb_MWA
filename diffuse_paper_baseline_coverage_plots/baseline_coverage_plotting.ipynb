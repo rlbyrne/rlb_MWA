{
 "cells": [
  {
   "cell_type": "code",
   "execution_count": 1,
   "metadata": {},
   "outputs": [],
   "source": [
    "import numpy as np\n",
    "import matplotlib.pyplot as plt\n",
    "import sys\n",
    "base_path = '/Users/ruby/EoR'\n",
    "sys.path.append('{}/pyuvdata'.format(base_path))\n",
    "import pyuvdata\n",
    "from pyuvdata import UVData"
   ]
  },
  {
   "cell_type": "code",
   "execution_count": 2,
   "metadata": {},
   "outputs": [
    {
     "name": "stderr",
     "output_type": "stream",
     "text": [
      "Required Antenna frame keyword not set, but this appears to be a Cotter file, setting to ITRF.\n"
     ]
    }
   ],
   "source": [
    "uv = UVData()\n",
    "uv.read_uvfits('{}/1061316296.uvfits'.format(base_path), read_data=False)\n",
    "baseline_lengths = np.sqrt(np.sum(np.abs(uv.uvw_array)**2., axis=1))\n",
    "baseline_lengths = np.array(list(set(baseline_lengths)))"
   ]
  },
  {
   "cell_type": "code",
   "execution_count": 15,
   "metadata": {},
   "outputs": [],
   "source": [
    "baseline_lengths_all = np.zeros((len(baseline_lengths), 384))\n",
    "for freq_ind in range(384):\n",
    "    baseline_lengths_all[:, freq_ind] = (\n",
    "        baseline_lengths*(uv.freq_array[0, freq_ind])/(3.*10**8)\n",
    "    )\n",
    "baseline_lengths_all = baseline_lengths_all.flatten()\n",
    "baseline_lengths_all = baseline_lengths_all[\n",
    "    np.where(baseline_lengths_all != 0.)\n",
    "]\n",
    "baseline_lengths_log = np.log10(baseline_lengths_all)\n",
    "baseline_hist, bin_edges_log = np.histogram(baseline_lengths_log, bins=100)\n",
    "bin_edges = 10**bin_edges_log\n",
    "\n",
    "plot_xvals = [bin_edges[0]]\n",
    "plot_yvals = [0.]\n",
    "for bin_ind in range(len(bin_edges)-1):\n",
    "    plot_xvals.extend([bin_edges[bin_ind], bin_edges[bin_ind+1]])\n",
    "    plot_yvals.extend([baseline_hist[bin_ind], baseline_hist[bin_ind]])\n",
    "plot_xvals.append(bin_edges[-1])\n",
    "plot_yvals.append(0.)\n",
    "plot_xvals = np.array(plot_xvals)\n",
    "plot_yvals = np.array(plot_yvals)"
   ]
  },
  {
   "cell_type": "code",
   "execution_count": 6,
   "metadata": {},
   "outputs": [],
   "source": [
    "def wl_to_angles(wl):\n",
    "    return np.arcsin(1/wl)*180/np.pi\n",
    "def angles_to_wl(angle):\n",
    "    return 1/np.sin(angle*np.pi/180)"
   ]
  },
  {
   "cell_type": "code",
   "execution_count": 35,
   "metadata": {},
   "outputs": [
    {
     "name": "stderr",
     "output_type": "stream",
     "text": [
      "divide by zero encountered in true_divide\n"
     ]
    },
    {
     "data": {
      "image/png": "[encoded data removed]",
      "text/plain": [
       "<Figure size 432x288 with 1 Axes>"
      ]
     },
     "metadata": {
      "needs_background": "light"
     },
     "output_type": "display_data"
    }
   ],
   "source": [
    "plt.rcParams.update({'font.size': 12})\n",
    "fig, ax = plt.subplots(figsize=(6, 4))\n",
    "plt.fill_between(\n",
    "    plot_xvals, 0, plot_yvals, alpha=1, label='Baseline Center Locs.'\n",
    ")\n",
    "plt.xscale('log')\n",
    "plt.yscale('log')\n",
    "ylims = np.array([\n",
    "    0.5*np.min(plot_yvals[np.where(plot_yvals > 0)]),\n",
    "    1.2*np.max(plot_yvals)\n",
    "])\n",
    "plt.ylim(ylims)\n",
    "xlim_wavelengths = np.array([1, 1.1*np.max(plot_xvals)])\n",
    "ax.set_xlim(xlim_wavelengths)\n",
    "ax.set_xscale('log')\n",
    "secax = ax.secondary_xaxis('top', functions=(wl_to_angles, angles_to_wl))\n",
    "secax.set_xlabel('Angular Scale (degrees)')\n",
    "ax.set_xlabel('Baseline Length (wavelengths)')\n",
    "ax.set_ylabel('Histogram Count')\n",
    "ax.legend(loc=2)\n",
    "plt.show()"
   ]
  },
  {
   "cell_type": "code",
   "execution_count": null,
   "metadata": {},
   "outputs": [],
   "source": []
  }
 ],
 "metadata": {
  "kernelspec": {
   "display_name": "Python 3",
   "language": "python",
   "name": "python3"
  },
  "language_info": {
   "codemirror_mode": {
    "name": "ipython",
    "version": 3
   },
   "file_extension": ".py",
   "mimetype": "text/x-python",
   "name": "python",
   "nbconvert_exporter": "python",
   "pygments_lexer": "ipython3",
   "version": "3.7.3"
  }
 },
 "nbformat": 4,
 "nbformat_minor": 4
}
